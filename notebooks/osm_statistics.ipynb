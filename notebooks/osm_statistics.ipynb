{
 "cells": [
  {
   "cell_type": "code",
   "execution_count": 8,
   "metadata": {},
   "outputs": [],
   "source": [
    "import pandas as pd\n",
    "import pyrosm"
   ]
  },
  {
   "cell_type": "markdown",
   "source": [
    "### Loading"
   ],
   "metadata": {
    "collapsed": false,
    "pycharm": {
     "name": "#%% md\n"
    }
   }
  },
  {
   "cell_type": "code",
   "execution_count": 3,
   "metadata": {
    "pycharm": {
     "name": "#%%\n"
    }
   },
   "outputs": [],
   "source": [
    "osm = pyrosm.OSM(\"../data/raw/berlin-latest.osm.pbf\")"
   ]
  },
  {
   "cell_type": "code",
   "execution_count": 4,
   "outputs": [],
   "source": [
    "driving_network = osm.get_network(\n",
    "    network_type=\"driving\",\n",
    "    extra_attributes=[\"surface\", \"smoothness\"]\n",
    ")"
   ],
   "metadata": {
    "collapsed": false,
    "pycharm": {
     "name": "#%%\n"
    }
   }
  },
  {
   "cell_type": "code",
   "execution_count": 5,
   "outputs": [],
   "source": [
    "cycling_network = osm.get_network(\n",
    "    network_type=\"cycling\",\n",
    "    extra_attributes=[\"surface\", \"smoothness\"]\n",
    ")"
   ],
   "metadata": {
    "collapsed": false,
    "pycharm": {
     "name": "#%%\n"
    }
   }
  },
  {
   "cell_type": "markdown",
   "source": [
    "### Statistics"
   ],
   "metadata": {
    "collapsed": false,
    "pycharm": {
     "name": "#%% md\n"
    }
   }
  },
  {
   "cell_type": "code",
   "execution_count": 5,
   "outputs": [
    {
     "data": {
      "text/plain": "surface                                       \nnone                                              58773\nasphalt                                           28934\nsett                                               3058\nconcrete                                           2949\npaving_stones                                      2351\ncobblestone                                        1710\npaved                                               872\nconcrete:plates                                     499\ndirt                                                416\nunpaved                                             270\ncompacted                                           260\nsand                                                177\nfine_gravel                                         171\ngravel                                              165\nground                                              128\nunhewn_cobblestone                                  109\ngrass                                                86\ngrass_paver                                          73\ncobblestone:flattened                                61\npebblestone                                          15\nwood                                                 11\nearth                                                 9\npaving_stones:20                                      8\nconcrete:lanes                                        8\ncobblestone:flattened;paving_stones                   6\nasphalt;paving_stones                                 5\nsett;paving_stones                                    4\nbricks                                                3\nasphalt;cobblestone                                   2\nasphalt;gravel;paving_stones                          2\npaving_stones:lanes                                   2\nsett;concrete                                         1\nsett;paving_stones;cobblestone:flattened              1\ntartan                                                1\nset                                                   1\ngrass_paver;paving_stones                             1\npaving_stones;pebblestone                             1\npaving_stones; cobblestone                            1\npaving_stones:30                                      1\ngravel, ground                                        1\ngepflastert_und_asphaltiert                           1\nconcrete:plates;compacted                             1\ncompound                                              1\nasphalt;gravel                                        1\nasphalt;concrete;concrete:plates;paving_stones        1\nasphalt;concrete                                      1\nwoodchips                                             1\ndtype: int64"
     },
     "execution_count": 5,
     "metadata": {},
     "output_type": "execute_result"
    }
   ],
   "source": [
    "driving_network.fillna({\"surface\": \"none\"}).value_counts([\"surface\"])"
   ],
   "metadata": {
    "collapsed": false,
    "pycharm": {
     "name": "#%%\n"
    }
   }
  },
  {
   "cell_type": "code",
   "execution_count": 6,
   "outputs": [
    {
     "data": {
      "text/plain": "smoothness   \nnone             93476\ngood              2794\nexcellent         1598\nintermediate      1446\nbad               1426\nvery_bad           364\nhorrible            28\nvery_horrible       20\nverbad               1\ndtype: int64"
     },
     "execution_count": 6,
     "metadata": {},
     "output_type": "execute_result"
    }
   ],
   "source": [
    "driving_network.fillna({\"smoothness\": \"none\"}).value_counts([\"smoothness\"])"
   ],
   "metadata": {
    "collapsed": false,
    "pycharm": {
     "name": "#%%\n"
    }
   }
  },
  {
   "cell_type": "code",
   "execution_count": 7,
   "outputs": [
    {
     "data": {
      "text/plain": "surface                                       \nnone                                              66378\nasphalt                                           30421\npaving_stones                                      5403\nsett                                               3518\nconcrete                                           3292\ndirt                                               2758\nground                                             2220\ncobblestone                                        1818\npaved                                              1156\ncompacted                                          1139\nunpaved                                             913\ngrass                                               727\nfine_gravel                                         724\nconcrete:plates                                     549\nsand                                                544\ngravel                                              443\nwood                                                125\nunhewn_cobblestone                                  115\ngrass_paver                                          96\ncobblestone:flattened                                95\nearth                                                74\npebblestone                                          71\nconcrete:lanes                                       18\nmetal                                                10\ndirt/sand                                            10\npaving_stones:20                                      9\ncobblestone:flattened;paving_stones                   6\npaving_stones:lanes                                   6\nasphalt;paving_stones                                 5\nsett;paving_stones                                    4\nmud                                                   4\nbricks                                                4\ntartan                                                3\nwoodchips                                             2\nasphalt;cobblestone                                   2\nasphalt;gravel;paving_stones                          2\ngrund                                                 1\nasphalt;concrete                                      1\nasphalt;concrete;concrete:plates;paving_stones        1\nasphalt;dirt                                          1\nunattached                                            1\nasphalt;gravel                                        1\nstone                                                 1\nstepping_stones                                       1\nsteel                                                 1\nsett;paving_stones;cobblestone:flattened              1\nsett;concrete                                         1\ncobblestone;sett                                      1\nset                                                   1\nconcrete:plates;compacted                             1\nrocks                                                 1\nconcrete:plates;paving_stones                         1\npaving_stones;pebblestone                             1\npaving_stones;grass                                   1\npaving_stones; cobblestone                            1\nearth_and_beton                                       1\npaving_stones:30                                      1\ngrass;sand                                            1\ngravel, ground                                        1\nground;grass                                          1\ndtype: int64"
     },
     "execution_count": 7,
     "metadata": {},
     "output_type": "execute_result"
    }
   ],
   "source": [
    "cycling_network.fillna({\"surface\": \"none\"}).value_counts([\"surface\"])"
   ],
   "metadata": {
    "collapsed": false,
    "pycharm": {
     "name": "#%%\n"
    }
   }
  },
  {
   "cell_type": "code",
   "execution_count": 8,
   "outputs": [
    {
     "data": {
      "text/plain": "smoothness   \nnone             110875\ngood               3362\nbad                2908\nintermediate       2664\nexcellent          2009\nvery_bad            692\nhorrible            119\nvery_horrible        42\nimpassable           15\nperfect               1\nverbad                1\ndtype: int64"
     },
     "execution_count": 8,
     "metadata": {},
     "output_type": "execute_result"
    }
   ],
   "source": [
    "cycling_network.fillna({\"smoothness\": \"none\"}).value_counts([\"smoothness\"])"
   ],
   "metadata": {
    "collapsed": false,
    "pycharm": {
     "name": "#%%\n"
    }
   }
  },
  {
   "cell_type": "code",
   "execution_count": 9,
   "outputs": [],
   "source": [
    "pd.set_option('display.max_rows', 100)"
   ],
   "metadata": {
    "collapsed": false,
    "pycharm": {
     "name": "#%%\n"
    }
   }
  },
  {
   "cell_type": "code",
   "execution_count": 10,
   "outputs": [
    {
     "data": {
      "text/plain": "smoothness     surface              \ngood           asphalt                  2692\nexcellent      asphalt                  1895\nbad            dirt                      879\nintermediate   asphalt                   618\n               paving_stones             586\nbad            sett                      573\ngood           paving_stones             386\nintermediate   concrete                  351\nbad            cobblestone               293\n               ground                    292\nintermediate   sett                      274\nvery_bad       dirt                      232\nintermediate   concrete:plates           143\n               fine_gravel               140\n               compacted                 131\nbad            fine_gravel               122\nvery_bad       ground                    121\nbad            sand                      116\n               unpaved                   111\nvery_bad       sett                      101\nbad            asphalt                    90\n               grass                      90\nvery_bad       cobblestone                85\ngood           concrete                   85\nintermediate   cobblestone                81\n               dirt                       77\nbad            gravel                     76\n               compacted                  67\ngood           sett                       63\nbad            concrete                   61\nexcellent      paving_stones              47\ngood           concrete:plates            43\nexcellent      concrete                   42\nvery_bad       sand                       37\nbad            concrete:plates            30\nintermediate   pebblestone                29\nvery_bad       unpaved                    29\nbad            paving_stones              29\nintermediate   gravel                     28\n               ground                     27\nvery_bad       grass                      26\nhorrible       ground                     26\nintermediate   cobblestone:flattened      25\nhorrible       unpaved                    23\nintermediate   unpaved                    22\nhorrible       dirt                       21\nbad            unhewn_cobblestone         19\ngood           fine_gravel                18\n               compacted                  16\nhorrible       sand                       14\nvery_bad       gravel                     13\nintermediate   sand                       12\ngood           cobblestone                12\nvery_horrible  sand                       12\nhorrible       grass                      11\nvery_horrible  ground                     10\nintermediate   wood                        9\n               paved                       8\nvery_bad       asphalt                     8\nbad            wood                        8\nvery_bad       unhewn_cobblestone          8\nvery_horrible  cobblestone                 7\nvery_bad       fine_gravel                 7\nhorrible       unhewn_cobblestone          7\nvery_horrible  unpaved                     6\ngood           paved                       6\nbad            earth                       6\nimpassable     ground                      5\nintermediate   unhewn_cobblestone          5\nvery_bad       compacted                   5\nhorrible       cobblestone                 5\nimpassable     unpaved                     5\nintermediate   earth                       4\nhorrible       sett                        4\nvery_bad       paving_stones               4\nintermediate   grass                       3\nvery_horrible  grass                       3\nintermediate   bricks                      3\n               concrete:lanes              3\nvery_bad       concrete                    3\ngood           ground                      3\n               dirt                        2\nbad            pebblestone                 2\ngood           gravel                      2\nbad            paved                       2\ngood           cobblestone:flattened       2\nintermediate   tartan                      2\nexcellent      sett                        2\ngood           wood                        2\nintermediate   paving_stones:lanes         2\n               grass_paver                 2\n               dirt/sand                   2\nhorrible       dirt/sand                   2\nbad            cobblestone:flattened       2\nimpassable     earth                       2\n               grass                       2\nvery_bad       pebblestone                 2\nvery_horrible  dirt                        1\nbad            dirt/sand                   1\n               grass_paver                 1\nvery_horrible  sett                        1\n               unhewn_cobblestone          1\nbad            paving_stones;grass         1\nimpassable     sand                        1\nbad            woodchips                   1\nexcellent      fine_gravel                 1\n               paved                       1\ngood           bricks                      1\n               concrete:lanes              1\nverbad         cobblestone                 1\nperfect        asphalt                     1\ngood           unpaved                     1\nhorrible       asphalt                     1\n               compacted                   1\n               gravel                      1\nbad            asphalt;concrete            1\nintermediate   cobblestone;sett            1\ngood           grass_paver                 1\ndtype: int64"
     },
     "execution_count": 10,
     "metadata": {},
     "output_type": "execute_result"
    }
   ],
   "source": [
    "cycling_network.value_counts([\"smoothness\", \"surface\"])"
   ],
   "metadata": {
    "collapsed": false,
    "pycharm": {
     "name": "#%%\n"
    }
   }
  }
 ],
 "metadata": {
  "kernelspec": {
   "display_name": "Python 3",
   "language": "python",
   "name": "python3"
  },
  "language_info": {
   "codemirror_mode": {
    "name": "ipython",
    "version": 3
   },
   "file_extension": ".py",
   "mimetype": "text/x-python",
   "name": "python",
   "nbconvert_exporter": "python",
   "pygments_lexer": "ipython3",
   "version": "3.9.3"
  }
 },
 "nbformat": 4,
 "nbformat_minor": 1
}