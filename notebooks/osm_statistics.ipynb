{
 "cells": [
  {
   "cell_type": "code",
   "execution_count": 1,
   "metadata": {},
   "outputs": [
    {
     "name": "stderr",
     "output_type": "stream",
     "text": [
      "/home/snickels/Projects/street-image-classification/venv/lib/python3.9/site-packages/geopandas/_compat.py:106: UserWarning: The Shapely GEOS version (3.8.0-CAPI-1.13.1 ) is incompatible with the GEOS version PyGEOS was compiled with (3.9.0-CAPI-1.16.2). Conversions between both will be slow.\n",
      "  warnings.warn(\n"
     ]
    }
   ],
   "source": [
    "import pyrosm"
   ]
  },
  {
   "cell_type": "markdown",
   "source": [
    "### Loading"
   ],
   "metadata": {
    "collapsed": false,
    "pycharm": {
     "name": "#%% md\n"
    }
   }
  },
  {
   "cell_type": "code",
   "execution_count": 2,
   "metadata": {
    "pycharm": {
     "name": "#%%\n"
    }
   },
   "outputs": [],
   "source": [
    "osm = pyrosm.OSM(\"../data/raw/berlin-latest.osm.pbf\")"
   ]
  },
  {
   "cell_type": "code",
   "execution_count": 3,
   "outputs": [],
   "source": [
    "driving_network = osm.get_network(\n",
    "    network_type=\"driving\",\n",
    "    extra_attributes=[\"surface\", \"smoothness\"]\n",
    ")"
   ],
   "metadata": {
    "collapsed": false,
    "pycharm": {
     "name": "#%%\n"
    }
   }
  },
  {
   "cell_type": "code",
   "execution_count": 4,
   "outputs": [],
   "source": [
    "cycling_network = osm.get_network(\n",
    "    network_type=\"cycling\",\n",
    "    extra_attributes=[\"surface\", \"smoothness\"]\n",
    ")"
   ],
   "metadata": {
    "collapsed": false,
    "pycharm": {
     "name": "#%%\n"
    }
   }
  },
  {
   "cell_type": "markdown",
   "source": [
    "### Statistics"
   ],
   "metadata": {
    "collapsed": false,
    "pycharm": {
     "name": "#%% md\n"
    }
   }
  },
  {
   "cell_type": "code",
   "execution_count": 5,
   "outputs": [
    {
     "data": {
      "text/plain": "surface                                       \nnone                                              58773\nasphalt                                           28934\nsett                                               3058\nconcrete                                           2949\npaving_stones                                      2351\ncobblestone                                        1710\npaved                                               872\nconcrete:plates                                     499\ndirt                                                416\nunpaved                                             270\ncompacted                                           260\nsand                                                177\nfine_gravel                                         171\ngravel                                              165\nground                                              128\nunhewn_cobblestone                                  109\ngrass                                                86\ngrass_paver                                          73\ncobblestone:flattened                                61\npebblestone                                          15\nwood                                                 11\nearth                                                 9\npaving_stones:20                                      8\nconcrete:lanes                                        8\ncobblestone:flattened;paving_stones                   6\nasphalt;paving_stones                                 5\nsett;paving_stones                                    4\nbricks                                                3\nasphalt;cobblestone                                   2\nasphalt;gravel;paving_stones                          2\npaving_stones:lanes                                   2\nsett;concrete                                         1\nsett;paving_stones;cobblestone:flattened              1\ntartan                                                1\nset                                                   1\ngrass_paver;paving_stones                             1\npaving_stones;pebblestone                             1\npaving_stones; cobblestone                            1\npaving_stones:30                                      1\ngravel, ground                                        1\ngepflastert_und_asphaltiert                           1\nconcrete:plates;compacted                             1\ncompound                                              1\nasphalt;gravel                                        1\nasphalt;concrete;concrete:plates;paving_stones        1\nasphalt;concrete                                      1\nwoodchips                                             1\ndtype: int64"
     },
     "execution_count": 5,
     "metadata": {},
     "output_type": "execute_result"
    }
   ],
   "source": [
    "driving_network.fillna({\"surface\": \"none\"}).value_counts([\"surface\"])"
   ],
   "metadata": {
    "collapsed": false,
    "pycharm": {
     "name": "#%%\n"
    }
   }
  },
  {
   "cell_type": "code",
   "execution_count": 6,
   "outputs": [
    {
     "data": {
      "text/plain": "smoothness   \nnone             93476\ngood              2794\nexcellent         1598\nintermediate      1446\nbad               1426\nvery_bad           364\nhorrible            28\nvery_horrible       20\nverbad               1\ndtype: int64"
     },
     "execution_count": 6,
     "metadata": {},
     "output_type": "execute_result"
    }
   ],
   "source": [
    "driving_network.fillna({\"smoothness\": \"none\"}).value_counts([\"smoothness\"])"
   ],
   "metadata": {
    "collapsed": false,
    "pycharm": {
     "name": "#%%\n"
    }
   }
  },
  {
   "cell_type": "code",
   "execution_count": 7,
   "outputs": [
    {
     "data": {
      "text/plain": "surface                                       \nnone                                              66378\nasphalt                                           30421\npaving_stones                                      5403\nsett                                               3518\nconcrete                                           3292\ndirt                                               2758\nground                                             2220\ncobblestone                                        1818\npaved                                              1156\ncompacted                                          1139\nunpaved                                             913\ngrass                                               727\nfine_gravel                                         724\nconcrete:plates                                     549\nsand                                                544\ngravel                                              443\nwood                                                125\nunhewn_cobblestone                                  115\ngrass_paver                                          96\ncobblestone:flattened                                95\nearth                                                74\npebblestone                                          71\nconcrete:lanes                                       18\nmetal                                                10\ndirt/sand                                            10\npaving_stones:20                                      9\ncobblestone:flattened;paving_stones                   6\npaving_stones:lanes                                   6\nasphalt;paving_stones                                 5\nsett;paving_stones                                    4\nmud                                                   4\nbricks                                                4\ntartan                                                3\nwoodchips                                             2\nasphalt;cobblestone                                   2\nasphalt;gravel;paving_stones                          2\ngrund                                                 1\nasphalt;concrete                                      1\nasphalt;concrete;concrete:plates;paving_stones        1\nasphalt;dirt                                          1\nunattached                                            1\nasphalt;gravel                                        1\nstone                                                 1\nstepping_stones                                       1\nsteel                                                 1\nsett;paving_stones;cobblestone:flattened              1\nsett;concrete                                         1\ncobblestone;sett                                      1\nset                                                   1\nconcrete:plates;compacted                             1\nrocks                                                 1\nconcrete:plates;paving_stones                         1\npaving_stones;pebblestone                             1\npaving_stones;grass                                   1\npaving_stones; cobblestone                            1\nearth_and_beton                                       1\npaving_stones:30                                      1\ngrass;sand                                            1\ngravel, ground                                        1\nground;grass                                          1\ndtype: int64"
     },
     "execution_count": 7,
     "metadata": {},
     "output_type": "execute_result"
    }
   ],
   "source": [
    "cycling_network.fillna({\"surface\": \"none\"}).value_counts([\"surface\"])"
   ],
   "metadata": {
    "collapsed": false,
    "pycharm": {
     "name": "#%%\n"
    }
   }
  },
  {
   "cell_type": "code",
   "execution_count": 8,
   "outputs": [
    {
     "data": {
      "text/plain": "smoothness   \nnone             110875\ngood               3362\nbad                2908\nintermediate       2664\nexcellent          2009\nvery_bad            692\nhorrible            119\nvery_horrible        42\nimpassable           15\nperfect               1\nverbad                1\ndtype: int64"
     },
     "execution_count": 8,
     "metadata": {},
     "output_type": "execute_result"
    }
   ],
   "source": [
    "cycling_network.fillna({\"smoothness\": \"none\"}).value_counts([\"smoothness\"])"
   ],
   "metadata": {
    "collapsed": false,
    "pycharm": {
     "name": "#%%\n"
    }
   }
  }
 ],
 "metadata": {
  "kernelspec": {
   "display_name": "Python 3",
   "language": "python",
   "name": "python3"
  },
  "language_info": {
   "codemirror_mode": {
    "name": "ipython",
    "version": 3
   },
   "file_extension": ".py",
   "mimetype": "text/x-python",
   "name": "python",
   "nbconvert_exporter": "python",
   "pygments_lexer": "ipython3",
   "version": "3.9.3"
  }
 },
 "nbformat": 4,
 "nbformat_minor": 1
}