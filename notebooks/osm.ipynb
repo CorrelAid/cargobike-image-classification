{
 "cells": [
  {
   "cell_type": "code",
   "execution_count": 16,
   "metadata": {},
   "outputs": [],
   "source": [
    "import geopandas\n",
    "from matplotlib import pyplot as plt\n",
    "import pyrosm\n",
    "\n",
    "import shapely.wkt\n",
    "\n",
    "\n",
    "from mapillary import download_mappilary_image_information_by_bbox\n",
    "from osm import get_city_geometry"
   ]
  },
  {
   "cell_type": "code",
   "execution_count": 2,
   "outputs": [],
   "source": [
    "region_osm = pyrosm.OSM(\"../data/stuttgart-regbez-latest.osm.pbf\")\n",
    "stuttgart_geometry = get_city_geometry(region_osm, \"Stuttgart\")"
   ],
   "metadata": {
    "collapsed": false,
    "pycharm": {
     "name": "#%%\n"
    }
   }
  },
  {
   "cell_type": "code",
   "execution_count": 3,
   "metadata": {
    "pycharm": {
     "name": "#%%\n"
    }
   },
   "outputs": [],
   "source": [
    "city_osm = pyrosm.OSM(\"../data/stuttgart-regbez-latest.osm.pbf\", bounding_box=stuttgart_geometry)"
   ]
  },
  {
   "cell_type": "code",
   "execution_count": 4,
   "metadata": {
    "pycharm": {
     "name": "#%%\n"
    }
   },
   "outputs": [],
   "source": [
    "driving_network = city_osm.get_network(\n",
    "    network_type=\"driving\",\n",
    "    extra_attributes=[\"surface\", \"smoothness\"]\n",
    ")"
   ]
  },
  {
   "cell_type": "code",
   "execution_count": 26,
   "outputs": [
    {
     "name": "stdout",
     "output_type": "stream",
     "text": [
      "Request URL: https://a.mapillary.com/v3/images?client_id=TmxURHBKRFFFRTc1dWZscGpLWW5VUDo1ZjYyYmFjYjY5MTA3MDNk&bbox=9.175126043956457,48.774203032456604,9.176889,48.77471&per_page=500&sort_by=key&min_quality_score=3&max_quality_score=5\n",
      "DONE\n",
      "Total images: 7\n",
      "{'type': 'Point', 'coordinates': [9.1751555, 48.7745701]}\n",
      "POINT (9.1751555 48.7745701)\n",
      "POINT (9.175155500000001 48.7745701)\n",
      "<class 'shapely.geometry.point.Point'>\n",
      "{'type': 'Point', 'coordinates': [9.175367, 48.7746454]}\n",
      "POINT (9.175367 48.7746454)\n",
      "POINT (9.175367 48.7746454)\n",
      "<class 'shapely.geometry.point.Point'>\n",
      "{'type': 'Point', 'coordinates': [9.1765036, 48.7746562]}\n",
      "POINT (9.1765036 48.7746562)\n",
      "POINT (9.1765036 48.7746562)\n",
      "<class 'shapely.geometry.point.Point'>\n",
      "{'type': 'Point', 'coordinates': [9.1766665, 48.7745586]}\n",
      "POINT (9.1766665 48.7745586)\n",
      "POINT (9.1766665 48.7745586)\n",
      "<class 'shapely.geometry.point.Point'>\n",
      "{'type': 'Point', 'coordinates': [9.1768355, 48.7744477]}\n",
      "POINT (9.1768355 48.7744477)\n",
      "POINT (9.176835499999999 48.7744477)\n",
      "<class 'shapely.geometry.point.Point'>\n",
      "{'type': 'Point', 'coordinates': [9.176806, 48.77469]}\n",
      "POINT (9.176806 48.77469)\n",
      "POINT (9.176805999999999 48.77469)\n",
      "<class 'shapely.geometry.point.Point'>\n",
      "{'type': 'Point', 'coordinates': [9.176889, 48.77471]}\n",
      "POINT (9.176889 48.77471)\n",
      "POINT (9.176888999999999 48.77471)\n",
      "<class 'shapely.geometry.point.Point'>\n"
     ]
    }
   ],
   "source": [
    "\n",
    "for _, street in driving_network.iterrows():\n",
    "    # TODO: Add buffer around geometry\n",
    "    street_geometry = street.geometry\n",
    "    street_bbox = street_geometry.bounds\n",
    "\n",
    "    mappilary_dict = download_mappilary_image_information_by_bbox(street_bbox)\n",
    "    for photo in mappilary_dict[\"features\"]:\n",
    "        photo_geometry = photo[\"geometry\"]\n",
    "\n",
    "        print(photo_geometry)\n",
    "\n",
    "        type_ = photo_geometry[\"type\"].upper()\n",
    "        coords = \" \".join(map(str, photo_geometry[\"coordinates\"]))\n",
    "\n",
    "        wkt = f\"{type_} ({coords})\"\n",
    "\n",
    "        print(wkt)\n",
    "\n",
    "        shape = shapely.wkt.loads(wkt)\n",
    "\n",
    "        print(shape)\n",
    "        print(type(shape))\n",
    "\n",
    "# P = shapely.wkt.loads('POLYGON ((51.0 3.0, 51.3 3.61, 51.3 3.0, 51.0 3.0))')\n",
    "\n",
    "\n",
    "    break"
   ],
   "metadata": {
    "collapsed": false,
    "pycharm": {
     "name": "#%%\n"
    }
   }
  },
  {
   "cell_type": "code",
   "execution_count": null,
   "metadata": {
    "pycharm": {
     "name": "#%%\n"
    }
   },
   "outputs": [],
   "source": [
    "driving_network.fillna({\"surface\": \"none\"}).value_counts([\"surface\"])"
   ]
  },
  {
   "cell_type": "code",
   "execution_count": null,
   "metadata": {
    "pycharm": {
     "name": "#%%\n"
    }
   },
   "outputs": [],
   "source": [
    "driving_network.fillna({\"smoothness\": \"none\"}).value_counts([\"smoothness\"])"
   ]
  },
  {
   "cell_type": "code",
   "execution_count": null,
   "metadata": {
    "pycharm": {
     "name": "#%%\n"
    }
   },
   "outputs": [],
   "source": [
    "driving_network.plot(color=\"red\")"
   ]
  },
  {
   "cell_type": "markdown",
   "metadata": {
    "pycharm": {
     "name": "#%% md\n"
    }
   },
   "source": [
    "## Get Stuttgart cycling lanes"
   ]
  },
  {
   "cell_type": "code",
   "execution_count": null,
   "metadata": {
    "pycharm": {
     "name": "#%%\n"
    }
   },
   "outputs": [],
   "source": [
    "cycling_network = city_osm.get_network(\n",
    "    network_type=\"cycling\",\n",
    "    extra_attributes=[\"surface\", \"smoothness\"]\n",
    ")"
   ]
  },
  {
   "cell_type": "code",
   "execution_count": null,
   "metadata": {
    "pycharm": {
     "name": "#%%\n"
    }
   },
   "outputs": [],
   "source": [
    "cycling_network.fillna({\"surface\": \"none\"}).value_counts([\"surface\"])"
   ]
  },
  {
   "cell_type": "code",
   "execution_count": null,
   "metadata": {
    "pycharm": {
     "name": "#%%\n"
    }
   },
   "outputs": [],
   "source": [
    "cycling_network.fillna({\"smoothness\": \"none\"}).value_counts([\"smoothness\"])"
   ]
  },
  {
   "cell_type": "code",
   "execution_count": null,
   "metadata": {
    "pycharm": {
     "name": "#%%\n"
    }
   },
   "outputs": [],
   "source": [
    "cycling_network.plot(color=\"blue\")"
   ]
  },
  {
   "cell_type": "code",
   "execution_count": null,
   "outputs": [],
   "source": [],
   "metadata": {
    "collapsed": false,
    "pycharm": {
     "name": "#%%\n"
    }
   }
  }
 ],
 "metadata": {
  "kernelspec": {
   "display_name": "Python 3",
   "language": "python",
   "name": "python3"
  },
  "language_info": {
   "codemirror_mode": {
    "name": "ipython",
    "version": 3
   },
   "file_extension": ".py",
   "mimetype": "text/x-python",
   "name": "python",
   "nbconvert_exporter": "python",
   "pygments_lexer": "ipython3",
   "version": "3.9.3"
  }
 },
 "nbformat": 4,
 "nbformat_minor": 1
}