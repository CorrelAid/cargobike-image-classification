{
 "cells": [
  {
   "cell_type": "code",
   "execution_count": 1,
   "metadata": {},
   "outputs": [
    {
     "name": "stderr",
     "output_type": "stream",
     "text": [
      "/home/snickels/Projects/street-image-classification/venv/lib/python3.9/site-packages/geopandas/_compat.py:106: UserWarning: The Shapely GEOS version (3.8.0-CAPI-1.13.1 ) is incompatible with the GEOS version PyGEOS was compiled with (3.9.0-CAPI-1.16.2). Conversions between both will be slow.\n",
      "  warnings.warn(\n"
     ]
    }
   ],
   "source": [
    "from pathlib import Path\n",
    "\n",
    "import pyrosm\n",
    "\n",
    "from mapillary import download_mapillary_image_by_key, download_mapillary_object_detection_by_key\n",
    "from osm import add_mapillary_key_to_network"
   ]
  },
  {
   "cell_type": "markdown",
   "source": [
    "### Settings"
   ],
   "metadata": {
    "collapsed": false,
    "pycharm": {
     "name": "#%% md\n"
    }
   }
  },
  {
   "cell_type": "code",
   "execution_count": 2,
   "outputs": [],
   "source": [
    "input_filepath = \"../data/raw/berlin-latest.osm.pbf\"\n",
    "min_quality_score = 4\n",
    "output_dir = \"../data/processed/out\""
   ],
   "metadata": {
    "collapsed": false,
    "pycharm": {
     "name": "#%%\n"
    }
   }
  },
  {
   "cell_type": "markdown",
   "source": [
    "### Code (see make_dataset.py)"
   ],
   "metadata": {
    "collapsed": false,
    "pycharm": {
     "name": "#%% md\n"
    }
   }
  },
  {
   "cell_type": "code",
   "source": [
    "osm = pyrosm.OSM(input_filepath)"
   ],
   "metadata": {
    "collapsed": false,
    "pycharm": {
     "name": "#%%\n"
    }
   },
   "execution_count": 3,
   "outputs": []
  },
  {
   "cell_type": "code",
   "execution_count": 4,
   "outputs": [],
   "source": [
    "network = osm.get_network(\n",
    "    network_type=\"cycling\",\n",
    "    extra_attributes=[\"surface\", \"smoothness\"]\n",
    ")"
   ],
   "metadata": {
    "collapsed": false,
    "pycharm": {
     "name": "#%%\n"
    }
   }
  },
  {
   "cell_type": "code",
   "execution_count": 5,
   "outputs": [],
   "source": [
    "# Filter relevant columns\n",
    "network = network[[\"id\", \"geometry\", \"surface\", \"smoothness\"]]"
   ],
   "metadata": {
    "collapsed": false,
    "pycharm": {
     "name": "#%%\n"
    }
   }
  },
  {
   "cell_type": "code",
   "execution_count": 6,
   "outputs": [],
   "source": [
    "# Filter only records where both surface and smoothness is set\n",
    "network = network[(~network[\"surface\"].isna()) & (~network[\"smoothness\"].isna())]"
   ],
   "metadata": {
    "collapsed": false,
    "pycharm": {
     "name": "#%%\n"
    }
   }
  },
  {
   "cell_type": "code",
   "execution_count": 7,
   "outputs": [
    {
     "name": "stdout",
     "output_type": "stream",
     "text": [
      "Request URL: https://a.mapillary.com/v3/images?client_id=TmxURHBKRFFFRTc1dWZscGpLWW5VUDo1ZjYyYmFjYjY5MTA3MDNk&bbox=13.525808394391273,52.48913043665209,13.527869293873632,52.49044905555783&per_page=500&sort_by=key&min_quality_score=4\n",
      "DONE\n",
      "Total images: 167\n",
      "Request URL: https://a.mapillary.com/v3/images?client_id=TmxURHBKRFFFRTc1dWZscGpLWW5VUDo1ZjYyYmFjYjY5MTA3MDNk&bbox=13.523868068725816,52.482789917870114,13.525887018854531,52.489174160275965&per_page=500&sort_by=key&min_quality_score=4\n",
      "DONE\n",
      "Total images: 270\n",
      "Request URL: https://a.mapillary.com/v3/images?client_id=TmxURHBKRFFFRTc1dWZscGpLWW5VUDo1ZjYyYmFjYjY5MTA3MDNk&bbox=13.635509405757002,52.36593718240352,13.637040327791425,52.369278836433104&per_page=500&sort_by=key&min_quality_score=4\n",
      "DONE\n",
      "Total images: 122\n",
      "Request URL: https://a.mapillary.com/v3/images?client_id=TmxURHBKRFFFRTc1dWZscGpLWW5VUDo1ZjYyYmFjYjY5MTA3MDNk&bbox=13.628494275759923,52.350349756347946,13.631994532529342,52.35217994781752&per_page=500&sort_by=key&min_quality_score=4\n",
      "DONE\n",
      "Total images: 76\n",
      "Request URL: https://a.mapillary.com/v3/images?client_id=TmxURHBKRFFFRTc1dWZscGpLWW5VUDo1ZjYyYmFjYjY5MTA3MDNk&bbox=13.61688740636797,52.37404737066047,13.619954820069045,52.377307411592945&per_page=500&sort_by=key&min_quality_score=4\n",
      "DONE\n",
      "Total images: 49\n",
      "Request URL: https://a.mapillary.com/v3/images?client_id=TmxURHBKRFFFRTc1dWZscGpLWW5VUDo1ZjYyYmFjYjY5MTA3MDNk&bbox=13.439115192999342,52.54733846475211,13.43956590713673,52.54777663512349&per_page=500&sort_by=key&min_quality_score=4\n",
      "DONE\n",
      "Total images: 64\n",
      "Request URL: https://a.mapillary.com/v3/images?client_id=TmxURHBKRFFFRTc1dWZscGpLWW5VUDo1ZjYyYmFjYjY5MTA3MDNk&bbox=13.42749699299575,52.493436737943156,13.427753832601503,52.4936066775681&per_page=500&sort_by=key&min_quality_score=4\n",
      "DONE\n",
      "Total images: 50\n",
      "Request URL: https://a.mapillary.com/v3/images?client_id=TmxURHBKRFFFRTc1dWZscGpLWW5VUDo1ZjYyYmFjYjY5MTA3MDNk&bbox=13.387617689121198,52.49302413537898,13.389469623666315,52.49598367251235&per_page=500&sort_by=key&min_quality_score=4\n",
      "Total images: 660\n",
      "DONE\n",
      "Total images: 660\n",
      "Request URL: https://a.mapillary.com/v3/images?client_id=TmxURHBKRFFFRTc1dWZscGpLWW5VUDo1ZjYyYmFjYjY5MTA3MDNk&bbox=13.463996482724056,52.51108804046807,13.465674810532143,52.512851954561235&per_page=500&sort_by=key&min_quality_score=4\n",
      "DONE\n",
      "Total images: 45\n",
      "Request URL: https://a.mapillary.com/v3/images?client_id=TmxURHBKRFFFRTc1dWZscGpLWW5VUDo1ZjYyYmFjYjY5MTA3MDNk&bbox=13.636968479151589,52.369234967795165,13.641870619452485,52.37633022784048&per_page=500&sort_by=key&min_quality_score=4\n",
      "DONE\n",
      "Total images: 358\n"
     ]
    }
   ],
   "source": [
    "# Get Mapillary keys for each street\n",
    "street_mapillary_df = add_mapillary_key_to_network(network.head(10), min_quality_score)"
   ],
   "metadata": {
    "collapsed": false,
    "pycharm": {
     "name": "#%%\n"
    }
   }
  },
  {
   "cell_type": "code",
   "execution_count": 8,
   "outputs": [
    {
     "data": {
      "text/plain": "                                             geometry         id  \\\n2   MULTILINESTRING ((13.52783 52.49043, 13.52639 ...  4045220.0   \n2   MULTILINESTRING ((13.52783 52.49043, 13.52639 ...  4045220.0   \n2   MULTILINESTRING ((13.52783 52.49043, 13.52639 ...  4045220.0   \n2   MULTILINESTRING ((13.52783 52.49043, 13.52639 ...  4045220.0   \n2   MULTILINESTRING ((13.52783 52.49043, 13.52639 ...  4045220.0   \n..                                                ...        ...   \n51  MULTILINESTRING ((13.63700 52.36926, 13.63713 ...  4068154.0   \n51  MULTILINESTRING ((13.63700 52.36926, 13.63713 ...  4068154.0   \n51  MULTILINESTRING ((13.63700 52.36926, 13.63713 ...  4068154.0   \n51  MULTILINESTRING ((13.63700 52.36926, 13.63713 ...  4068154.0   \n51  MULTILINESTRING ((13.63700 52.36926, 13.63713 ...  4068154.0   \n\n             mapillary_key smoothness      surface  \n2   0BdKIR4sPdlLiabOfAmD6B        bad         sett  \n2   Gv8rUSeGkmDzs0yk1OtsYj        bad         sett  \n2   bIfWS4heXtCoVDddCMPWi7        bad         sett  \n2   GJAfy1dIDRs3mR78ddlEh2        bad         sett  \n2   nLFpoV5wWGAZWFn6kpWOTh        bad         sett  \n..                     ...        ...          ...  \n51  4HztkqBrTqYNyLhPvuvElA        bad  cobblestone  \n51  ZXBFAEEofR8vA8KUcTNNTT        bad  cobblestone  \n51  J9U6Q30u2OxkZz5x9Xg3Fj        bad  cobblestone  \n51  SfbKzJ-H4u2y4uZ6QHL9SA        bad  cobblestone  \n51  ug3-F7DC2bNQRnChjW1Png        bad  cobblestone  \n\n[102 rows x 5 columns]",
      "text/html": "<div>\n<style scoped>\n    .dataframe tbody tr th:only-of-type {\n        vertical-align: middle;\n    }\n\n    .dataframe tbody tr th {\n        vertical-align: top;\n    }\n\n    .dataframe thead th {\n        text-align: right;\n    }\n</style>\n<table border=\"1\" class=\"dataframe\">\n  <thead>\n    <tr style=\"text-align: right;\">\n      <th></th>\n      <th>geometry</th>\n      <th>id</th>\n      <th>mapillary_key</th>\n      <th>smoothness</th>\n      <th>surface</th>\n    </tr>\n  </thead>\n  <tbody>\n    <tr>\n      <th>2</th>\n      <td>MULTILINESTRING ((13.52783 52.49043, 13.52639 ...</td>\n      <td>4045220.0</td>\n      <td>0BdKIR4sPdlLiabOfAmD6B</td>\n      <td>bad</td>\n      <td>sett</td>\n    </tr>\n    <tr>\n      <th>2</th>\n      <td>MULTILINESTRING ((13.52783 52.49043, 13.52639 ...</td>\n      <td>4045220.0</td>\n      <td>Gv8rUSeGkmDzs0yk1OtsYj</td>\n      <td>bad</td>\n      <td>sett</td>\n    </tr>\n    <tr>\n      <th>2</th>\n      <td>MULTILINESTRING ((13.52783 52.49043, 13.52639 ...</td>\n      <td>4045220.0</td>\n      <td>bIfWS4heXtCoVDddCMPWi7</td>\n      <td>bad</td>\n      <td>sett</td>\n    </tr>\n    <tr>\n      <th>2</th>\n      <td>MULTILINESTRING ((13.52783 52.49043, 13.52639 ...</td>\n      <td>4045220.0</td>\n      <td>GJAfy1dIDRs3mR78ddlEh2</td>\n      <td>bad</td>\n      <td>sett</td>\n    </tr>\n    <tr>\n      <th>2</th>\n      <td>MULTILINESTRING ((13.52783 52.49043, 13.52639 ...</td>\n      <td>4045220.0</td>\n      <td>nLFpoV5wWGAZWFn6kpWOTh</td>\n      <td>bad</td>\n      <td>sett</td>\n    </tr>\n    <tr>\n      <th>...</th>\n      <td>...</td>\n      <td>...</td>\n      <td>...</td>\n      <td>...</td>\n      <td>...</td>\n    </tr>\n    <tr>\n      <th>51</th>\n      <td>MULTILINESTRING ((13.63700 52.36926, 13.63713 ...</td>\n      <td>4068154.0</td>\n      <td>4HztkqBrTqYNyLhPvuvElA</td>\n      <td>bad</td>\n      <td>cobblestone</td>\n    </tr>\n    <tr>\n      <th>51</th>\n      <td>MULTILINESTRING ((13.63700 52.36926, 13.63713 ...</td>\n      <td>4068154.0</td>\n      <td>ZXBFAEEofR8vA8KUcTNNTT</td>\n      <td>bad</td>\n      <td>cobblestone</td>\n    </tr>\n    <tr>\n      <th>51</th>\n      <td>MULTILINESTRING ((13.63700 52.36926, 13.63713 ...</td>\n      <td>4068154.0</td>\n      <td>J9U6Q30u2OxkZz5x9Xg3Fj</td>\n      <td>bad</td>\n      <td>cobblestone</td>\n    </tr>\n    <tr>\n      <th>51</th>\n      <td>MULTILINESTRING ((13.63700 52.36926, 13.63713 ...</td>\n      <td>4068154.0</td>\n      <td>SfbKzJ-H4u2y4uZ6QHL9SA</td>\n      <td>bad</td>\n      <td>cobblestone</td>\n    </tr>\n    <tr>\n      <th>51</th>\n      <td>MULTILINESTRING ((13.63700 52.36926, 13.63713 ...</td>\n      <td>4068154.0</td>\n      <td>ug3-F7DC2bNQRnChjW1Png</td>\n      <td>bad</td>\n      <td>cobblestone</td>\n    </tr>\n  </tbody>\n</table>\n<p>102 rows × 5 columns</p>\n</div>"
     },
     "execution_count": 8,
     "metadata": {},
     "output_type": "execute_result"
    }
   ],
   "source": [
    "street_mapillary_df"
   ],
   "metadata": {
    "collapsed": false,
    "pycharm": {
     "name": "#%%\n"
    }
   }
  },
  {
   "cell_type": "code",
   "execution_count": 9,
   "outputs": [],
   "source": [
    "# Create output dir\n",
    "Path(f\"{output_dir}\").mkdir(parents=True, exist_ok=True)"
   ],
   "metadata": {
    "collapsed": false,
    "pycharm": {
     "name": "#%%\n"
    }
   }
  },
  {
   "cell_type": "code",
   "execution_count": 13,
   "outputs": [],
   "source": [
    "# Create sub dirs\n",
    "image_dir = f\"{output_dir}/images\"\n",
    "object_detection_dir = f\"{output_dir}/object_detections\"\n",
    "\n",
    "Path(image_dir).mkdir(exist_ok=True)\n",
    "Path(object_detection_dir).mkdir(exist_ok=True)"
   ],
   "metadata": {
    "collapsed": false,
    "pycharm": {
     "name": "#%%\n"
    }
   }
  },
  {
   "cell_type": "code",
   "execution_count": 14,
   "outputs": [],
   "source": [
    "# Export street_mapillary_df as data.csv\n",
    "street_mapillary_df.to_csv(f\"{output_dir}/data.csv\", index=False)"
   ],
   "metadata": {
    "collapsed": false,
    "pycharm": {
     "name": "#%%\n"
    }
   }
  },
  {
   "cell_type": "code",
   "execution_count": 15,
   "outputs": [],
   "source": [
    "# Download images and object detections\n",
    "for _, row in street_mapillary_df.iterrows():\n",
    "    download_mapillary_image_by_key(row[\"mapillary_key\"], download_dir=image_dir)\n",
    "    download_mapillary_object_detection_by_key(row[\"mapillary_key\"],\n",
    "                                               download_dir=object_detection_dir)"
   ],
   "metadata": {
    "collapsed": false,
    "pycharm": {
     "name": "#%%\n"
    }
   }
  }
 ],
 "metadata": {
  "kernelspec": {
   "display_name": "Python 3",
   "language": "python",
   "name": "python3"
  },
  "language_info": {
   "codemirror_mode": {
    "name": "ipython",
    "version": 3
   },
   "file_extension": ".py",
   "mimetype": "text/x-python",
   "name": "python",
   "nbconvert_exporter": "python",
   "pygments_lexer": "ipython3",
   "version": "3.9.3"
  }
 },
 "nbformat": 4,
 "nbformat_minor": 1
}