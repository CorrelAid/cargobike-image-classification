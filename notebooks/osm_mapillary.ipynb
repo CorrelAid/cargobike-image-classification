{
 "cells": [
  {
   "cell_type": "code",
   "execution_count": 45,
   "metadata": {},
   "outputs": [],
   "source": [
    "from pathlib import Path\n",
    "\n",
    "import pyrosm\n",
    "\n",
    "import src.data.mapillary as mapi\n",
    "import src.data.osm as osmd\n",
    "#from src.data.mapillary import download_mapillary_image_by_key, download_mapillary_object_detection_by_key\n",
    "#from src.data.osm import add_mapillary_key_to_network\n",
    "from ipyleaflet import Map, Marker, Icon, Polyline\n",
    "from importlib import reload"
   ]
  },
  {
   "cell_type": "markdown",
   "metadata": {
    "pycharm": {
     "name": "#%% md\n"
    }
   },
   "source": [
    "### Settings"
   ]
  },
  {
   "cell_type": "code",
   "execution_count": 2,
   "metadata": {
    "pycharm": {
     "name": "#%%\n"
    }
   },
   "outputs": [],
   "source": [
    "input_filepath = \"../data/raw/berlin-latest.osm.pbf\"\n",
    "min_quality_score = 4\n",
    "output_dir = \"../data/processed/out\""
   ]
  },
  {
   "cell_type": "markdown",
   "metadata": {
    "pycharm": {
     "name": "#%% md\n"
    }
   },
   "source": [
    "### Code (see make_dataset.py)"
   ]
  },
  {
   "cell_type": "code",
   "execution_count": 3,
   "metadata": {
    "pycharm": {
     "name": "#%%\n"
    }
   },
   "outputs": [],
   "source": [
    "osm = pyrosm.OSM(input_filepath)"
   ]
  },
  {
   "cell_type": "code",
   "execution_count": 4,
   "metadata": {
    "pycharm": {
     "name": "#%%\n"
    }
   },
   "outputs": [],
   "source": [
    "network = osm.get_network(\n",
    "    network_type=\"cycling\",\n",
    "    extra_attributes=[\"surface\", \"smoothness\"]\n",
    ")"
   ]
  },
  {
   "cell_type": "code",
   "execution_count": 5,
   "metadata": {},
   "outputs": [],
   "source": [
    "network = network.head(100)"
   ]
  },
  {
   "cell_type": "code",
   "execution_count": 6,
   "metadata": {
    "pycharm": {
     "name": "#%%\n"
    }
   },
   "outputs": [],
   "source": [
    "# Filter relevant columns\n",
    "network = network[[\"id\", \"geometry\", \"surface\", \"smoothness\"]]"
   ]
  },
  {
   "cell_type": "code",
   "execution_count": 7,
   "metadata": {
    "pycharm": {
     "name": "#%%\n"
    }
   },
   "outputs": [],
   "source": [
    "# Filter only records where both surface and smoothness is set\n",
    "network = network[(~network[\"surface\"].isna()) & (~network[\"smoothness\"].isna())]"
   ]
  },
  {
   "cell_type": "code",
   "execution_count": 71,
   "metadata": {
    "pycharm": {
     "name": "#%%\n"
    }
   },
   "outputs": [
    {
     "name": "stdout",
     "output_type": "stream",
     "text": [
      "Request URL: https://a.mapillary.com/v3/images?client_id=TmxURHBKRFFFRTc1dWZscGpLWW5VUDo1ZjYyYmFjYjY5MTA3MDNk&bbox=13.525808394391273,52.48913043665209,13.527869293873632,52.49044905555783&per_page=500&sort_by=key&min_quality_score=4\n",
      "DONE\n",
      "Total images: 167\n",
      "Request URL: https://a.mapillary.com/v3/images?client_id=TmxURHBKRFFFRTc1dWZscGpLWW5VUDo1ZjYyYmFjYjY5MTA3MDNk&bbox=13.523868068725816,52.482789917870114,13.525887018854531,52.489174160275965&per_page=500&sort_by=key&min_quality_score=4\n",
      "DONE\n",
      "Total images: 270\n",
      "Request URL: https://a.mapillary.com/v3/images?client_id=TmxURHBKRFFFRTc1dWZscGpLWW5VUDo1ZjYyYmFjYjY5MTA3MDNk&bbox=13.635509405757002,52.36593718240352,13.637040327791425,52.369278836433104&per_page=500&sort_by=key&min_quality_score=4\n",
      "DONE\n",
      "Total images: 122\n",
      "Request URL: https://a.mapillary.com/v3/images?client_id=TmxURHBKRFFFRTc1dWZscGpLWW5VUDo1ZjYyYmFjYjY5MTA3MDNk&bbox=13.628494275759923,52.350349756347946,13.631994532529342,52.35217994781752&per_page=500&sort_by=key&min_quality_score=4\n",
      "DONE\n",
      "Total images: 76\n",
      "Request URL: https://a.mapillary.com/v3/images?client_id=TmxURHBKRFFFRTc1dWZscGpLWW5VUDo1ZjYyYmFjYjY5MTA3MDNk&bbox=13.61688740636797,52.37404737066047,13.619954820069045,52.377307411592945&per_page=500&sort_by=key&min_quality_score=4\n",
      "DONE\n",
      "Total images: 49\n",
      "Request URL: https://a.mapillary.com/v3/images?client_id=TmxURHBKRFFFRTc1dWZscGpLWW5VUDo1ZjYyYmFjYjY5MTA3MDNk&bbox=13.439115192999342,52.54733846475211,13.43956590713673,52.54777663512349&per_page=500&sort_by=key&min_quality_score=4\n",
      "DONE\n",
      "Total images: 64\n",
      "Request URL: https://a.mapillary.com/v3/images?client_id=TmxURHBKRFFFRTc1dWZscGpLWW5VUDo1ZjYyYmFjYjY5MTA3MDNk&bbox=13.42749699299575,52.493436737943156,13.427753832601503,52.4936066775681&per_page=500&sort_by=key&min_quality_score=4\n",
      "DONE\n",
      "Total images: 50\n",
      "Request URL: https://a.mapillary.com/v3/images?client_id=TmxURHBKRFFFRTc1dWZscGpLWW5VUDo1ZjYyYmFjYjY5MTA3MDNk&bbox=13.387617689121198,52.49302413537898,13.389469623666315,52.49598367251235&per_page=500&sort_by=key&min_quality_score=4\n",
      "Total images: 660\n",
      "DONE\n",
      "Total images: 660\n",
      "Request URL: https://a.mapillary.com/v3/images?client_id=TmxURHBKRFFFRTc1dWZscGpLWW5VUDo1ZjYyYmFjYjY5MTA3MDNk&bbox=13.463996482724056,52.51108804046807,13.465674810532143,52.512851954561235&per_page=500&sort_by=key&min_quality_score=4\n",
      "DONE\n",
      "Total images: 45\n",
      "Request URL: https://a.mapillary.com/v3/images?client_id=TmxURHBKRFFFRTc1dWZscGpLWW5VUDo1ZjYyYmFjYjY5MTA3MDNk&bbox=13.636968479151589,52.369234967795165,13.641870619452485,52.37633022784048&per_page=500&sort_by=key&min_quality_score=4\n",
      "DONE\n",
      "Total images: 358\n"
     ]
    },
    {
     "data": {
      "text/html": [
       "<div>\n",
       "<style scoped>\n",
       "    .dataframe tbody tr th:only-of-type {\n",
       "        vertical-align: middle;\n",
       "    }\n",
       "\n",
       "    .dataframe tbody tr th {\n",
       "        vertical-align: top;\n",
       "    }\n",
       "\n",
       "    .dataframe thead th {\n",
       "        text-align: right;\n",
       "    }\n",
       "</style>\n",
       "<table border=\"1\" class=\"dataframe\">\n",
       "  <thead>\n",
       "    <tr style=\"text-align: right;\">\n",
       "      <th></th>\n",
       "      <th>geometry</th>\n",
       "      <th>id</th>\n",
       "      <th>img_coords</th>\n",
       "      <th>mapillary_key</th>\n",
       "      <th>smoothness</th>\n",
       "      <th>surface</th>\n",
       "    </tr>\n",
       "  </thead>\n",
       "  <tbody>\n",
       "    <tr>\n",
       "      <th>2</th>\n",
       "      <td>MULTILINESTRING ((13.52783 52.49043, 13.52639 ...</td>\n",
       "      <td>4045220.0</td>\n",
       "      <td>POINT (13.5276836 52.4903206)</td>\n",
       "      <td>0BdKIR4sPdlLiabOfAmD6B</td>\n",
       "      <td>bad</td>\n",
       "      <td>sett</td>\n",
       "    </tr>\n",
       "    <tr>\n",
       "      <th>2</th>\n",
       "      <td>MULTILINESTRING ((13.52783 52.49043, 13.52639 ...</td>\n",
       "      <td>4045220.0</td>\n",
       "      <td>POINT (13.5277531 52.4903519)</td>\n",
       "      <td>Gv8rUSeGkmDzs0yk1OtsYj</td>\n",
       "      <td>bad</td>\n",
       "      <td>sett</td>\n",
       "    </tr>\n",
       "    <tr>\n",
       "      <th>2</th>\n",
       "      <td>MULTILINESTRING ((13.52783 52.49043, 13.52639 ...</td>\n",
       "      <td>4045220.0</td>\n",
       "      <td>POINT (13.5277539 52.4903672)</td>\n",
       "      <td>bIfWS4heXtCoVDddCMPWi7</td>\n",
       "      <td>bad</td>\n",
       "      <td>sett</td>\n",
       "    </tr>\n",
       "    <tr>\n",
       "      <th>2</th>\n",
       "      <td>MULTILINESTRING ((13.52783 52.49043, 13.52639 ...</td>\n",
       "      <td>4045220.0</td>\n",
       "      <td>POINT (13.5277553 52.4903847)</td>\n",
       "      <td>GJAfy1dIDRs3mR78ddlEh2</td>\n",
       "      <td>bad</td>\n",
       "      <td>sett</td>\n",
       "    </tr>\n",
       "    <tr>\n",
       "      <th>2</th>\n",
       "      <td>MULTILINESTRING ((13.52783 52.49043, 13.52639 ...</td>\n",
       "      <td>4045220.0</td>\n",
       "      <td>POINT (13.5277573 52.4903987)</td>\n",
       "      <td>nLFpoV5wWGAZWFn6kpWOTh</td>\n",
       "      <td>bad</td>\n",
       "      <td>sett</td>\n",
       "    </tr>\n",
       "    <tr>\n",
       "      <th>...</th>\n",
       "      <td>...</td>\n",
       "      <td>...</td>\n",
       "      <td>...</td>\n",
       "      <td>...</td>\n",
       "      <td>...</td>\n",
       "      <td>...</td>\n",
       "    </tr>\n",
       "    <tr>\n",
       "      <th>51</th>\n",
       "      <td>MULTILINESTRING ((13.63700 52.36926, 13.63713 ...</td>\n",
       "      <td>4068154.0</td>\n",
       "      <td>POINT (13.6376074 52.3701573)</td>\n",
       "      <td>4HztkqBrTqYNyLhPvuvElA</td>\n",
       "      <td>bad</td>\n",
       "      <td>cobblestone</td>\n",
       "    </tr>\n",
       "    <tr>\n",
       "      <th>51</th>\n",
       "      <td>MULTILINESTRING ((13.63700 52.36926, 13.63713 ...</td>\n",
       "      <td>4068154.0</td>\n",
       "      <td>POINT (13.6375555 52.3700871)</td>\n",
       "      <td>ZXBFAEEofR8vA8KUcTNNTT</td>\n",
       "      <td>bad</td>\n",
       "      <td>cobblestone</td>\n",
       "    </tr>\n",
       "    <tr>\n",
       "      <th>51</th>\n",
       "      <td>MULTILINESTRING ((13.63700 52.36926, 13.63713 ...</td>\n",
       "      <td>4068154.0</td>\n",
       "      <td>POINT (13.6375275 52.3700385)</td>\n",
       "      <td>J9U6Q30u2OxkZz5x9Xg3Fj</td>\n",
       "      <td>bad</td>\n",
       "      <td>cobblestone</td>\n",
       "    </tr>\n",
       "    <tr>\n",
       "      <th>51</th>\n",
       "      <td>MULTILINESTRING ((13.63700 52.36926, 13.63713 ...</td>\n",
       "      <td>4068154.0</td>\n",
       "      <td>POINT (13.6411976 52.3756009)</td>\n",
       "      <td>SfbKzJ-H4u2y4uZ6QHL9SA</td>\n",
       "      <td>bad</td>\n",
       "      <td>cobblestone</td>\n",
       "    </tr>\n",
       "    <tr>\n",
       "      <th>51</th>\n",
       "      <td>MULTILINESTRING ((13.63700 52.36926, 13.63713 ...</td>\n",
       "      <td>4068154.0</td>\n",
       "      <td>POINT (13.6413381 52.3757808)</td>\n",
       "      <td>ug3-F7DC2bNQRnChjW1Png</td>\n",
       "      <td>bad</td>\n",
       "      <td>cobblestone</td>\n",
       "    </tr>\n",
       "  </tbody>\n",
       "</table>\n",
       "<p>102 rows × 6 columns</p>\n",
       "</div>"
      ],
      "text/plain": [
       "                                             geometry         id  \\\n",
       "2   MULTILINESTRING ((13.52783 52.49043, 13.52639 ...  4045220.0   \n",
       "2   MULTILINESTRING ((13.52783 52.49043, 13.52639 ...  4045220.0   \n",
       "2   MULTILINESTRING ((13.52783 52.49043, 13.52639 ...  4045220.0   \n",
       "2   MULTILINESTRING ((13.52783 52.49043, 13.52639 ...  4045220.0   \n",
       "2   MULTILINESTRING ((13.52783 52.49043, 13.52639 ...  4045220.0   \n",
       "..                                                ...        ...   \n",
       "51  MULTILINESTRING ((13.63700 52.36926, 13.63713 ...  4068154.0   \n",
       "51  MULTILINESTRING ((13.63700 52.36926, 13.63713 ...  4068154.0   \n",
       "51  MULTILINESTRING ((13.63700 52.36926, 13.63713 ...  4068154.0   \n",
       "51  MULTILINESTRING ((13.63700 52.36926, 13.63713 ...  4068154.0   \n",
       "51  MULTILINESTRING ((13.63700 52.36926, 13.63713 ...  4068154.0   \n",
       "\n",
       "                       img_coords           mapillary_key smoothness  \\\n",
       "2   POINT (13.5276836 52.4903206)  0BdKIR4sPdlLiabOfAmD6B        bad   \n",
       "2   POINT (13.5277531 52.4903519)  Gv8rUSeGkmDzs0yk1OtsYj        bad   \n",
       "2   POINT (13.5277539 52.4903672)  bIfWS4heXtCoVDddCMPWi7        bad   \n",
       "2   POINT (13.5277553 52.4903847)  GJAfy1dIDRs3mR78ddlEh2        bad   \n",
       "2   POINT (13.5277573 52.4903987)  nLFpoV5wWGAZWFn6kpWOTh        bad   \n",
       "..                            ...                     ...        ...   \n",
       "51  POINT (13.6376074 52.3701573)  4HztkqBrTqYNyLhPvuvElA        bad   \n",
       "51  POINT (13.6375555 52.3700871)  ZXBFAEEofR8vA8KUcTNNTT        bad   \n",
       "51  POINT (13.6375275 52.3700385)  J9U6Q30u2OxkZz5x9Xg3Fj        bad   \n",
       "51  POINT (13.6411976 52.3756009)  SfbKzJ-H4u2y4uZ6QHL9SA        bad   \n",
       "51  POINT (13.6413381 52.3757808)  ug3-F7DC2bNQRnChjW1Png        bad   \n",
       "\n",
       "        surface  \n",
       "2          sett  \n",
       "2          sett  \n",
       "2          sett  \n",
       "2          sett  \n",
       "2          sett  \n",
       "..          ...  \n",
       "51  cobblestone  \n",
       "51  cobblestone  \n",
       "51  cobblestone  \n",
       "51  cobblestone  \n",
       "51  cobblestone  \n",
       "\n",
       "[102 rows x 6 columns]"
      ]
     },
     "execution_count": 71,
     "metadata": {},
     "output_type": "execute_result"
    }
   ],
   "source": [
    "# Get Mapillary keys for each street\n",
    "street_mapillary_df = osmd.add_mapillary_key_to_network(network.head(10), min_quality_score)\n",
    "street_mapillary_df"
   ]
  },
  {
   "cell_type": "code",
   "execution_count": 29,
   "metadata": {
    "pycharm": {
     "name": "#%%\n"
    }
   },
   "outputs": [],
   "source": [
    "# Create output dir\n",
    "Path(f\"{output_dir}\").mkdir(parents=True, exist_ok=True)"
   ]
  },
  {
   "cell_type": "code",
   "execution_count": 30,
   "metadata": {
    "pycharm": {
     "name": "#%%\n"
    }
   },
   "outputs": [],
   "source": [
    "# Create sub dirs\n",
    "image_dir = f\"{output_dir}/images\"\n",
    "object_detection_dir = f\"{output_dir}/object_detections\"\n",
    "\n",
    "Path(image_dir).mkdir(exist_ok=True)\n",
    "Path(object_detection_dir).mkdir(exist_ok=True)"
   ]
  },
  {
   "cell_type": "code",
   "execution_count": 31,
   "metadata": {
    "pycharm": {
     "name": "#%%\n"
    }
   },
   "outputs": [],
   "source": [
    "# Export street_mapillary_df as data.csv\n",
    "street_mapillary_df.to_csv(f\"{output_dir}/data.csv\", index=False)"
   ]
  },
  {
   "cell_type": "code",
   "execution_count": 72,
   "metadata": {
    "pycharm": {
     "name": "#%%\n"
    }
   },
   "outputs": [],
   "source": [
    "# Download images and object detections\n",
    "for _, row in street_mapillary_df.iterrows():\n",
    "    mapi.download_mapillary_image_by_key(row[\"mapillary_key\"], download_dir=image_dir)\n",
    "    #download_mapillary_object_detection_by_key(row[\"mapillary_key\"],\n",
    "                                               #download_dir=object_detection_dir)"
   ]
  },
  {
   "cell_type": "code",
   "execution_count": 73,
   "metadata": {},
   "outputs": [
    {
     "data": {
      "application/vnd.jupyter.widget-view+json": {
       "model_id": "f456e8c5d1a84a7c8dedb2c13c3ed950",
       "version_major": 2,
       "version_minor": 0
      },
      "text/plain": [
       "Map(center=[52.4903206, 13.5276836], controls=(ZoomControl(options=['position', 'zoom_in_text', 'zoom_in_title…"
      ]
     },
     "metadata": {},
     "output_type": "display_data"
    }
   ],
   "source": [
    "map_center = street_mapillary_df.iloc[0].img_coords\n",
    "map_center = [map_center.y, map_center.x]\n",
    "\n",
    "street_id_added = list()\n",
    "m = Map(zoom=16, center=map_center, max_zoom=22)\n",
    "for _, row in street_mapillary_df.iterrows():\n",
    "    img_path = Path(output_dir) / \"images\" / (row.mapillary_key + \".jpg\")\n",
    "    assert img_path.is_file(), img_path\n",
    "    icon = Icon(icon_url=str(img_path), \n",
    "                icon_size=[95, 38])\n",
    "    marker_center = [row.img_coords.y, row.img_coords.x]\n",
    "    marker = Marker(location=marker_center, draggable=False, icon=icon)\n",
    "    m.add_layer(marker)\n",
    "    \n",
    "    if row.id not in street_id_added:\n",
    "        street_id_added.append(row.id)\n",
    "        line_shapely = row.geometry\n",
    "        line_map_locactions = list()\n",
    "\n",
    "        for single_line in line_shapely.geoms:\n",
    "            line_map_locactions.extend([reversed(p) for p in single_line.coords])\n",
    "        \n",
    "        line = Polyline(\n",
    "            locations=line_map_locactions,\n",
    "            color=\"green\" ,\n",
    "            fill=False\n",
    "        )\n",
    "        m.add_layer(line)\n",
    "m"
   ]
  },
  {
   "cell_type": "code",
   "execution_count": 24,
   "metadata": {},
   "outputs": [],
   "source": []
  },
  {
   "cell_type": "code",
   "execution_count": null,
   "metadata": {},
   "outputs": [],
   "source": []
  }
 ],
 "metadata": {
  "kernelspec": {
   "display_name": "Python 3",
   "language": "python",
   "name": "python3"
  },
  "language_info": {
   "codemirror_mode": {
    "name": "ipython",
    "version": 3
   },
   "file_extension": ".py",
   "mimetype": "text/x-python",
   "name": "python",
   "nbconvert_exporter": "python",
   "pygments_lexer": "ipython3",
   "version": "3.9.5"
  }
 },
 "nbformat": 4,
 "nbformat_minor": 1
}
