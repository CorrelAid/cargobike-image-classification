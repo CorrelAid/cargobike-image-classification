{
 "cells": [
  {
   "cell_type": "code",
   "execution_count": 1,
   "metadata": {
    "ExecuteTime": {
     "end_time": "2021-07-15T17:50:02.202057Z",
     "start_time": "2021-07-15T17:50:02.197527Z"
    }
   },
   "outputs": [],
   "source": [
    "import pytorch_lightning as pl\n",
    "from PIL import Image\n",
    "\n",
    "from pathlib import Path \n",
    "from typing import Union, Optional, Callable, List, Tuple, Any\n",
    "\n",
    "import matplotlib.pyplot as plt\n",
    "import numpy as np\n",
    "import pandas as pd\n",
    "import torch\n",
    "from torch import nn\n",
    "from torch import optim\n",
    "import torch.nn.functional as F\n",
    "from torchvision import datasets, transforms, models\n",
    "from torch.utils.data.sampler import SubsetRandomSampler\n",
    "import torchmetrics\n",
    "from tqdm.notebook import tqdm\n",
    "from tqdm.contrib.concurrent import process_map\n",
    "from datetime import datetime\n",
    "from importlib import reload\n",
    "import torchvision\n",
    "\n",
    "from pytorch_lightning.callbacks.early_stopping import EarlyStopping\n",
    "from pytorch_lightning.callbacks.model_checkpoint import ModelCheckpoint"
   ]
  },
  {
   "cell_type": "code",
   "execution_count": 2,
   "metadata": {
    "ExecuteTime": {
     "end_time": "2021-07-15T17:50:40.727181Z",
     "start_time": "2021-07-15T17:50:40.724639Z"
    }
   },
   "outputs": [],
   "source": [
    "import src.models.train_model\n",
    "#reload(src.models.train_model)"
   ]
  },
  {
   "cell_type": "code",
   "execution_count": 3,
   "metadata": {
    "ExecuteTime": {
     "end_time": "2021-07-15T17:57:58.908561Z",
     "start_time": "2021-07-15T17:57:58.905011Z"
    }
   },
   "outputs": [],
   "source": [
    "crop_to_lower_percentage = 50\n",
    "resize_size = (500, 500)\n",
    "output_size = (256, 256)\n",
    "transform = transforms.Compose([\n",
    "    src.models.train_model.CustomCropToLowerXPercent(crop_to_lower_percentage),\n",
    "    transforms.Resize(700),  # get an image with height 700px\n",
    "    transforms.CenterCrop((700, 1000)),  # get the center part with a HxW of 700x1000\n",
    "    transforms.RandomCrop(500),  # get a 500x500px square\n",
    "    transforms.Resize(output_size),\n",
    "    transforms.RandomHorizontalFlip(),\n",
    "    transforms.Normalize(mean=[0.485, 0.456, 0.406], std=[0.229, 0.224, 0.225])\n",
    "])"
   ]
  },
  {
   "cell_type": "code",
   "execution_count": 4,
   "metadata": {
    "ExecuteTime": {
     "end_time": "2021-07-15T18:04:32.093252Z",
     "start_time": "2021-07-15T18:04:31.758180Z"
    }
   },
   "outputs": [
    {
     "name": "stdout",
     "output_type": "stream",
     "text": [
      "66715\n"
     ]
    }
   ],
   "source": [
    "data_dir = \"/home/trossber/street-image-classification/data/raw\"\n",
    "ds = src.models.dataset.StreetImageDataset(path=data_dir,         \n",
    "                   label_column=\"smoothness_category\", \n",
    "                   #query=\"surface_category == 'paved'\",\n",
    "                   #query=\"smoothness_category == 'good'\",\n",
    "                   #label_column=\"surface_category\",\n",
    "                   transform=transform)\n",
    "print(len(ds))"
   ]
  },
  {
   "cell_type": "code",
   "execution_count": 6,
   "metadata": {
    "ExecuteTime": {
     "end_time": "2021-07-15T18:04:32.488151Z",
     "start_time": "2021-07-15T18:04:32.484812Z"
    }
   },
   "outputs": [
    {
     "data": {
      "text/plain": [
       "20"
      ]
     },
     "execution_count": 6,
     "metadata": {},
     "output_type": "execute_result"
    }
   ],
   "source": [
    "num_workers = 20\n",
    "batch_size = 64\n",
    "train_loader, val_loader = src.models.train_model.create_train_val_loader(ds, \n",
    "                                                                            train_ratio=0.7,\n",
    "                                                                            batch_size=batch_size,\n",
    "                                                                            num_workers=num_workers)\n",
    "train_loader.num_workers"
   ]
  },
  {
   "cell_type": "markdown",
   "metadata": {},
   "source": [
    "# MTL ResNet Model "
   ]
  },
  {
   "cell_type": "code",
   "execution_count": 7,
   "metadata": {},
   "outputs": [],
   "source": [
    "from torchvision.models.utils import load_state_dict_from_url"
   ]
  },
  {
   "cell_type": "code",
   "execution_count": 8,
   "metadata": {},
   "outputs": [],
   "source": [
    "class ResNet(nn.Module):\n",
    "\n",
    "    def __init__(\n",
    "        self,\n",
    "        block,\n",
    "        layers: List[int],\n",
    "        num_classes: int = 1000,\n",
    "        zero_init_residual: bool = False,\n",
    "        groups: int = 1,\n",
    "        width_per_group: int = 64,\n",
    "        replace_stride_with_dilation: Optional[List[bool]] = None,\n",
    "        norm_layer: Optional[Callable[..., nn.Module]] = None\n",
    "    ) -> None:\n",
    "        super(ResNet, self).__init__()\n",
    "        if norm_layer is None:\n",
    "            norm_layer = nn.BatchNorm2d\n",
    "        self._norm_layer = norm_layer\n",
    "\n",
    "        self.inplanes = 64\n",
    "        self.dilation = 1\n",
    "        if replace_stride_with_dilation is None:\n",
    "            # each element in the tuple indicates if we should replace\n",
    "            # the 2x2 stride with a dilated convolution instead\n",
    "            replace_stride_with_dilation = [False, False, False]\n",
    "        if len(replace_stride_with_dilation) != 3:\n",
    "            raise ValueError(\"replace_stride_with_dilation should be None \"\n",
    "                             \"or a 3-element tuple, got {}\".format(replace_stride_with_dilation))\n",
    "        self.groups = groups\n",
    "        self.base_width = width_per_group\n",
    "        self.conv1 = nn.Conv2d(3, self.inplanes, kernel_size=7, stride=2, padding=3,\n",
    "                               bias=False)\n",
    "        self.bn1 = norm_layer(self.inplanes)\n",
    "        self.relu = nn.ReLU(inplace=True)\n",
    "        self.maxpool = nn.MaxPool2d(kernel_size=3, stride=2, padding=1)\n",
    "        self.layer1 = self._make_layer(block, 64, layers[0])\n",
    "        self.layer2 = self._make_layer(block, 128, layers[1], stride=2,\n",
    "                                       dilate=replace_stride_with_dilation[0])\n",
    "        self.layer3 = self._make_layer(block, 256, layers[2], stride=2,\n",
    "                                       dilate=replace_stride_with_dilation[1])\n",
    "        self.layer4 = self._make_layer(block, 512, layers[3], stride=2,\n",
    "                                       dilate=replace_stride_with_dilation[2])\n",
    "        self.avgpool = nn.AdaptiveAvgPool2d((1, 1))\n",
    "        \n",
    "        self.fc = nn.Linear(512 * block.expansion, num_classes)\n",
    "        \n",
    "        for m in self.modules():\n",
    "            if isinstance(m, nn.Conv2d):\n",
    "                nn.init.kaiming_normal_(m.weight, mode='fan_out', nonlinearity='relu')\n",
    "            elif isinstance(m, (nn.BatchNorm2d, nn.GroupNorm)):\n",
    "                nn.init.constant_(m.weight, 1)\n",
    "                nn.init.constant_(m.bias, 0)\n",
    "\n",
    "        # Zero-initialize the last BN in each residual branch,\n",
    "        # so that the residual branch starts with zeros, and each residual block behaves like an identity.\n",
    "        # This improves the model by 0.2~0.3% according to https://arxiv.org/abs/1706.02677\n",
    "        if zero_init_residual:\n",
    "            for m in self.modules():\n",
    "                if isinstance(m, Bottleneck):\n",
    "                    nn.init.constant_(m.bn3.weight, 0)  # type: ignore[arg-type]\n",
    "                elif isinstance(m, BasicBlock):\n",
    "                    nn.init.constant_(m.bn2.weight, 0)  # type: ignore[arg-type]\n",
    "\n",
    "    def _make_layer(self, block, planes: int, blocks: int,\n",
    "                    stride: int = 1, dilate: bool = False) -> nn.Sequential:\n",
    "        norm_layer = self._norm_layer\n",
    "        downsample = None\n",
    "        previous_dilation = self.dilation\n",
    "        if dilate:\n",
    "            self.dilation *= stride\n",
    "            stride = 1\n",
    "        if stride != 1 or self.inplanes != planes * block.expansion:\n",
    "            downsample = nn.Sequential(\n",
    "                torchvision.models.resnet.conv1x1(self.inplanes, planes * block.expansion, stride),\n",
    "                norm_layer(planes * block.expansion),\n",
    "            )\n",
    "\n",
    "        layers = []\n",
    "        layers.append(block(self.inplanes, planes, stride, downsample, self.groups,\n",
    "                            self.base_width, previous_dilation, norm_layer))\n",
    "        self.inplanes = planes * block.expansion\n",
    "        for _ in range(1, blocks):\n",
    "            layers.append(block(self.inplanes, planes, groups=self.groups,\n",
    "                                base_width=self.base_width, dilation=self.dilation,\n",
    "                                norm_layer=norm_layer))\n",
    "\n",
    "        return nn.Sequential(*layers)\n",
    "    def _forward_impl(self, x: torch.Tensor) -> torch.Tensor:\n",
    "        # See note [TorchScript super()]\n",
    "        x = self.conv1(x)\n",
    "        x = self.bn1(x)\n",
    "        x = self.relu(x)\n",
    "        x = self.maxpool(x)\n",
    "\n",
    "        x = self.layer1(x)\n",
    "        x = self.layer2(x)\n",
    "        x = self.layer3(x)\n",
    "        x = self.layer4(x)\n",
    "\n",
    "        x = self.avgpool(x)\n",
    "        x = torch.flatten(x, 1)\n",
    "        x = self.fc(x)\n",
    "        x1 = self.fc_task1(x)\n",
    "        x2 = self.fc_task2(x)\n",
    "\n",
    "        return x1, x2\n",
    "\n",
    "    def forward(self, x: torch.Tensor) -> torch.Tensor:\n",
    "        return self._forward_impl(x)\n",
    "\n",
    "\n",
    "def _resnet(\n",
    "    arch: str,\n",
    "    block,\n",
    "    layers: List[int],\n",
    "    pretrained:bool,\n",
    "    progress: bool,\n",
    "    **kwargs: Any\n",
    "):\n",
    "    model = ResNet(block, layers, **kwargs)\n",
    "    if pretrained:\n",
    "        state_dict = torchvision.models.resnet.load_state_dict_from_url(torchvision.models.resnet.model_urls[arch],\n",
    "                                              progress=progress)\n",
    "        model.load_state_dict(state_dict)\n",
    "    return model\n",
    "\n",
    "\n",
    "def resnet18(pretrained: bool = False, progress: bool = True, **kwargs: Any) -> ResNet:\n",
    "    return _resnet('resnet18', torchvision.models.resnet.BasicBlock, [2, 2, 2, 2], pretrained, progress,\n",
    "                   **kwargs)\n",
    "def resnet50(pretrained: bool = False, progress: bool = True, **kwargs: Any) -> ResNet:\n",
    "    return _resnet('resnet50', torchvision.models.resnet.Bottleneck, [3, 4, 6, 3], pretrained, progress,\n",
    "                   **kwargs)"
   ]
  },
  {
   "cell_type": "code",
   "execution_count": 9,
   "metadata": {},
   "outputs": [],
   "source": [
    "def get_mtl_resnet50(num_classes: int):\n",
    "    _m = resnet50(pretrained=True) #num_classes=3)\n",
    "    _m.fc = nn.Sequential(nn.Flatten(),\n",
    "                          nn.Linear(2048, 512),\n",
    "                          nn.ReLU(), \n",
    "                          nn.Dropout(0.2))\n",
    "    _m.fc_task1 = nn.Sequential(nn.Linear(512, num_classes), \n",
    "                                nn.LogSoftmax(dim=1))\n",
    "    _m.fc_task2 = nn.Sequential(nn.Linear(512, num_classes),\n",
    "                                nn.LogSoftmax(dim=1))\n",
    "    return _m"
   ]
  },
  {
   "cell_type": "code",
   "execution_count": 22,
   "metadata": {},
   "outputs": [],
   "source": [
    "_m = get_mtl_resnet50(3)"
   ]
  },
  {
   "cell_type": "code",
   "execution_count": 23,
   "metadata": {},
   "outputs": [
    {
     "name": "stdout",
     "output_type": "stream",
     "text": [
      "tensor([[-1.2300, -0.9608, -1.1235]], grad_fn=<LogSoftmaxBackward>) tensor([[-1.0930, -1.1406, -1.0638]], grad_fn=<LogSoftmaxBackward>)\n"
     ]
    },
    {
     "name": "stderr",
     "output_type": "stream",
     "text": [
      "/scratch/anaconda3/envs/torch-cargo3/lib/python3.8/site-packages/torch/nn/functional.py:718: UserWarning: Named tensors and all their associated APIs are an experimental feature and subject to change. Please do not use them for anything important until they are released as stable. (Triggered internally at  /opt/conda/conda-bld/pytorch_1623448278899/work/c10/core/TensorImpl.h:1156.)\n",
      "  return torch.max_pool2d(input, kernel_size, stride, padding, dilation, ceil_mode)\n"
     ]
    }
   ],
   "source": [
    "x1, x2 = _m(torch.Tensor(np.random.random((1, 3, 100, 100))))\n",
    "print(x1, x2)"
   ]
  },
  {
   "cell_type": "code",
   "execution_count": 146,
   "metadata": {},
   "outputs": [],
   "source": [
    "def _forward_impl_custom(self, x: torch.Tensor) -> torch.Tensor:\n",
    "        pass\n",
    "m = resnet50(pretrained=True)\n",
    "m._forward_impl = _forward_impl_custom"
   ]
  },
  {
   "cell_type": "markdown",
   "metadata": {},
   "source": [
    "# Mobilenet v3 (large)"
   ]
  },
  {
   "cell_type": "markdown",
   "metadata": {},
   "source": [
    "| Model | Acc@1 | Acc@5 |\n",
    "|---|---|---|\n",
    "| MobileNet V2       | 71.878 | 90.286 | \n",
    "| MobileNet V3 Large | 74.042 | 91.340 | \n",
    "| MobileNet V3 Small | 67.668 | 87.402 | "
   ]
  },
  {
   "cell_type": "code",
   "execution_count": 7,
   "metadata": {},
   "outputs": [],
   "source": [
    "class MTL_MobileNetV3(torchvision.models.MobileNetV3):\n",
    "    def __init__(self, inverted_residual_setting, last_channel):\n",
    "        super().__init__(inverted_residual_setting, last_channel)\n",
    "        arch = \"mobilenet_v3_large\"\n",
    "        self.inverted_residual_setting = inverted_residual_setting\n",
    "        self.last_channel = last_channel\n",
    "        lastconv_input_channels = inverted_residual_setting[-1].out_channels\n",
    "        self.lastconv_output_channels = 6 * lastconv_input_channels\n",
    "\n",
    "    def add_mtl_head(self, num_classes=3):\n",
    "        self.classifier =  nn.Sequential(\n",
    "                nn.Linear(self.lastconv_output_channels, self.last_channel),\n",
    "                nn.Hardswish(inplace=True),\n",
    "                nn.Dropout(p=0.2, inplace=True))\n",
    "        self.classifier1 = nn.Sequential(nn.Linear(self.last_channel, num_classes), \n",
    "                                         nn.LogSoftmax(dim=1))\n",
    "        self.classifier2 = nn.Sequential(nn.Linear(self.last_channel, num_classes), \n",
    "                                         nn.LogSoftmax(dim=1))\n",
    "        \n",
    "    def _forward_impl(self, x: torch.Tensor) -> torch.Tensor:\n",
    "        x = self.features(x)\n",
    "\n",
    "        x = self.avgpool(x)\n",
    "        x = torch.flatten(x, 1)\n",
    "\n",
    "        x = self.classifier(x)\n",
    "        x1 = self.classifier1(x)\n",
    "        x2 = self.classifier2(x)\n",
    "        return x1, x2"
   ]
  },
  {
   "cell_type": "code",
   "execution_count": 8,
   "metadata": {},
   "outputs": [],
   "source": [
    "def my_mobilenet_v3_model(\n",
    "    arch: str,\n",
    "    inverted_residual_setting,\n",
    "    last_channel: int,\n",
    "    pretrained: bool,\n",
    "    progress: bool,\n",
    "    **kwargs: Any\n",
    "):\n",
    "    model = MTL_MobileNetV3(inverted_residual_setting, last_channel)\n",
    "    if pretrained:\n",
    "        if torchvision.models.mobilenetv3.model_urls.get(arch, None) is None:\n",
    "            raise ValueError(\"No checkpoint is available for model type {}\".format(arch))\n",
    "        state_dict = torchvision.models.mobilenetv3.load_state_dict_from_url(torchvision.models.mobilenetv3.model_urls[arch], progress=progress)\n",
    "        model.load_state_dict(state_dict)\n",
    "    return model"
   ]
  },
  {
   "cell_type": "code",
   "execution_count": 9,
   "metadata": {},
   "outputs": [],
   "source": [
    "def mtl_mobilenet_v3_large(pretrained: bool = True, num_classes: int = 3):\n",
    "    arch = \"mobilenet_v3_large\"\n",
    "    inverted_residual_setting, last_channel = torchvision.models.mobilenetv3._mobilenet_v3_conf(arch)\n",
    "    m = my_mobilenet_v3_model(arch, inverted_residual_setting, last_channel, pretrained, progress=True)\n",
    "    m.add_mtl_head(num_classes=3)\n",
    "    return m"
   ]
  },
  {
   "cell_type": "code",
   "execution_count": 16,
   "metadata": {},
   "outputs": [],
   "source": [
    "m = mtl_mobilenet_v3_large(pretrained=True, num_classes=3)"
   ]
  },
  {
   "cell_type": "code",
   "execution_count": 17,
   "metadata": {},
   "outputs": [
    {
     "name": "stdout",
     "output_type": "stream",
     "text": [
      "tensor([[-0.0337,  0.0108,  0.0853]], grad_fn=<AddmmBackward>) tensor([[-0.0209, -0.1206, -0.0302]], grad_fn=<AddmmBackward>)\n"
     ]
    }
   ],
   "source": [
    "x1, x2 = m(torch.Tensor(np.random.random((1, 3, 100, 100))))\n",
    "print(x1, x2)"
   ]
  },
  {
   "cell_type": "markdown",
   "metadata": {},
   "source": [
    "# Training"
   ]
  },
  {
   "cell_type": "code",
   "execution_count": 10,
   "metadata": {},
   "outputs": [],
   "source": [
    "def get_metric_dict(mode: str = \"train\", num_classes: int = 3) -> dict:\n",
    "    kwargs = {\"num_classes\": num_classes, \"average\": \"weighted\"}\n",
    "    metric_dict = {f\"accuracy_{mode}_surface\": torchmetrics.Accuracy(**kwargs),\n",
    "                   f\"precision_{mode}_surface\": torchmetrics.Precision(**kwargs),\n",
    "                   f\"accuracy_{mode}_smoothness\": torchmetrics.Accuracy(**kwargs),\n",
    "                   f\"precision_{mode}_smoothness\": torchmetrics.Precision(**kwargs),\n",
    "                   f\"f1_{mode}_surface\": torchmetrics.F1(**kwargs),\n",
    "                   f\"f1_{mode}_smoothness\": torchmetrics.F1(**kwargs),\n",
    "                  }\n",
    "    return metric_dict"
   ]
  },
  {
   "cell_type": "code",
   "execution_count": 11,
   "metadata": {
    "ExecuteTime": {
     "end_time": "2021-07-15T18:01:53.933527Z",
     "start_time": "2021-07-15T18:01:53.927083Z"
    }
   },
   "outputs": [],
   "source": [
    "class CargoRocketModel(pl.LightningModule):\n",
    "\n",
    "    def __init__(self, num_classes: int = 10):\n",
    "        super().__init__()\n",
    "        self.num_classes = num_classes\n",
    "        self.model = mtl_mobilenet_v3_large(pretrained=True, num_classes=self.num_classes)\n",
    "        self.criterion1 = nn.NLLLoss()\n",
    "        self.criterion2 = nn.NLLLoss()\n",
    "        self.learning_rate = 1e-3\n",
    "        \n",
    "        self.train_metrics = get_metric_dict(mode=\"train\", num_classes=self.num_classes)      \n",
    "        self.val_metrics = get_metric_dict(mode=\"val\", num_classes=self.num_classes)\n",
    "        print(\"Using\", self.num_classes, \"classes\")\n",
    "       \n",
    "    def forward(self, x):\n",
    "        # in lightning, forward defines the prediction/inference actions\n",
    "        prediction = self.model(x)\n",
    "        return prediction\n",
    "\n",
    "    def training_step(self, batch, batch_idx):\n",
    "        # training_step defined the train loop.\n",
    "        # It is independent of forward\n",
    "        x = batch[\"image\"]\n",
    "        y1 = batch[\"surface\"]\n",
    "        y2 = batch[\"smoothness\"]\n",
    "\n",
    "        y_hat1, y_hat2 = self.model(x)\n",
    "        loss1 = self.criterion1(y_hat1, y1)\n",
    "        loss2 = self.criterion2(y_hat2, y2)\n",
    "        loss = loss1 + loss2\n",
    "        self.log('train_loss', loss)\n",
    "\n",
    "        for metric_name, metric in self.train_metrics.items():\n",
    "            if \"surface\" in metric_name:\n",
    "                metric(y_hat1.cpu(), y1.cpu())\n",
    "                self.log(metric_name, metric, on_epoch=True)\n",
    "            elif \"smoothness\" in metric_name:\n",
    "                metric(y_hat2.cpu(), y2.cpu())\n",
    "                self.log(metric_name, metric, on_epoch=True)\n",
    "\n",
    "        \n",
    "        return loss\n",
    "\n",
    "    def validation_step(self, batch, batch_idx):\n",
    "        x = batch[\"image\"]\n",
    "        y1 = batch[\"surface\"]\n",
    "        y2 = batch[\"smoothness\"]\n",
    "\n",
    "        y_hat1, y_hat2 = self.model(x)\n",
    "        loss1 = self.criterion1(y_hat1, y1)\n",
    "        loss2 = self.criterion2(y_hat2, y2)\n",
    "        loss = loss1 + loss2\n",
    "        self.log('val_loss', loss)\n",
    "        \n",
    "        for metric_name, metric in self.val_metrics.items():\n",
    "            if \"surface\" in metric_name:\n",
    "                metric(y_hat1.cpu(), y1.cpu())\n",
    "                self.log(metric_name, metric, on_epoch=True, prog_bar=True)\n",
    "            elif \"smoothness\" in metric_name:\n",
    "                metric(preds=y_hat2.cpu(), target=y2.cpu())\n",
    "                self.log(metric_name, metric, on_epoch=True, prog_bar=True)\n",
    "\n",
    "    def configure_optimizers(self):\n",
    "        optimizer = torch.optim.Adam(self.parameters(), lr=self.learning_rate)\n",
    "        return optimizer"
   ]
  },
  {
   "cell_type": "code",
   "execution_count": 12,
   "metadata": {
    "ExecuteTime": {
     "end_time": "2021-07-15T18:04:34.690155Z",
     "start_time": "2021-07-15T18:04:34.274450Z"
    }
   },
   "outputs": [
    {
     "name": "stdout",
     "output_type": "stream",
     "text": [
      "Cuda avail: True\n"
     ]
    }
   ],
   "source": [
    "print(\"Cuda avail:\", torch.cuda.is_available())"
   ]
  },
  {
   "cell_type": "code",
   "execution_count": 16,
   "metadata": {},
   "outputs": [],
   "source": [
    "torch.cuda.set_device(\"cuda:1\")"
   ]
  },
  {
   "cell_type": "code",
   "execution_count": 17,
   "metadata": {
    "ExecuteTime": {
     "end_time": "2021-07-15T18:04:34.690155Z",
     "start_time": "2021-07-15T18:04:34.274450Z"
    }
   },
   "outputs": [
    {
     "name": "stdout",
     "output_type": "stream",
     "text": [
      "Using 3 classes\n"
     ]
    }
   ],
   "source": [
    "model = CargoRocketModel(num_classes=3)"
   ]
  },
  {
   "cell_type": "code",
   "execution_count": 19,
   "metadata": {},
   "outputs": [],
   "source": [
    "def get_checkpoint_callback(metric: str) -> ModelCheckpoint:\n",
    "    callback = ModelCheckpoint(monitor=metric, \n",
    "                               mode=\"max\",\n",
    "                               filename='{epoch}-{val_loss:.2f}-{' + metric + ':.4f}')\n",
    "    return callback"
   ]
  },
  {
   "cell_type": "code",
   "execution_count": null,
   "metadata": {
    "ExecuteTime": {
     "end_time": "2021-07-15T18:04:34.690155Z",
     "start_time": "2021-07-15T18:04:34.274450Z"
    },
    "scrolled": false
   },
   "outputs": [
    {
     "name": "stderr",
     "output_type": "stream",
     "text": [
      "GPU available: True, used: True\n",
      "TPU available: False, using: 0 TPU cores\n",
      "LOCAL_RANK: 0 - CUDA_VISIBLE_DEVICES: [0,1]\n",
      "\n",
      "  | Name       | Type            | Params\n",
      "-----------------------------------------------\n",
      "0 | model      | MTL_MobileNetV3 | 4.2 M \n",
      "1 | criterion1 | NLLLoss         | 0     \n",
      "2 | criterion2 | NLLLoss         | 0     \n",
      "-----------------------------------------------\n",
      "4.2 M     Trainable params\n",
      "0         Non-trainable params\n",
      "4.2 M     Total params\n",
      "16.839    Total estimated model params size (MB)\n"
     ]
    },
    {
     "data": {
      "application/vnd.jupyter.widget-view+json": {
       "model_id": "",
       "version_major": 2,
       "version_minor": 0
      },
      "text/plain": [
       "Validation sanity check: 0it [00:00, ?it/s]"
      ]
     },
     "metadata": {},
     "output_type": "display_data"
    },
    {
     "data": {
      "application/vnd.jupyter.widget-view+json": {
       "model_id": "5c40c9f9441b4bbd93facd060b47f1a6",
       "version_major": 2,
       "version_minor": 0
      },
      "text/plain": [
       "Training: 0it [00:00, ?it/s]"
      ]
     },
     "metadata": {},
     "output_type": "display_data"
    },
    {
     "data": {
      "application/vnd.jupyter.widget-view+json": {
       "model_id": "",
       "version_major": 2,
       "version_minor": 0
      },
      "text/plain": [
       "Validating: 0it [00:00, ?it/s]"
      ]
     },
     "metadata": {},
     "output_type": "display_data"
    },
    {
     "name": "stderr",
     "output_type": "stream",
     "text": [
      "/scratch/anaconda3/envs/torch-cargo3/lib/python3.8/site-packages/pytorch_lightning/callbacks/model_checkpoint.py:610: LightningDeprecationWarning: Relying on `self.log('val_loss', ...)` to set the ModelCheckpoint monitor is deprecated in v1.2 and will be removed in v1.4. Please, create your own `mc = ModelCheckpoint(monitor='your_monitor')` and use it as `Trainer(callbacks=[mc])`.\n",
      "  warning_cache.deprecation(\n"
     ]
    },
    {
     "data": {
      "application/vnd.jupyter.widget-view+json": {
       "model_id": "",
       "version_major": 2,
       "version_minor": 0
      },
      "text/plain": [
       "Validating: 0it [00:00, ?it/s]"
      ]
     },
     "metadata": {},
     "output_type": "display_data"
    },
    {
     "data": {
      "application/vnd.jupyter.widget-view+json": {
       "model_id": "",
       "version_major": 2,
       "version_minor": 0
      },
      "text/plain": [
       "Validating: 0it [00:00, ?it/s]"
      ]
     },
     "metadata": {},
     "output_type": "display_data"
    },
    {
     "data": {
      "application/vnd.jupyter.widget-view+json": {
       "model_id": "",
       "version_major": 2,
       "version_minor": 0
      },
      "text/plain": [
       "Validating: 0it [00:00, ?it/s]"
      ]
     },
     "metadata": {},
     "output_type": "display_data"
    },
    {
     "data": {
      "application/vnd.jupyter.widget-view+json": {
       "model_id": "",
       "version_major": 2,
       "version_minor": 0
      },
      "text/plain": [
       "Validating: 0it [00:00, ?it/s]"
      ]
     },
     "metadata": {},
     "output_type": "display_data"
    },
    {
     "data": {
      "application/vnd.jupyter.widget-view+json": {
       "model_id": "",
       "version_major": 2,
       "version_minor": 0
      },
      "text/plain": [
       "Validating: 0it [00:00, ?it/s]"
      ]
     },
     "metadata": {},
     "output_type": "display_data"
    },
    {
     "data": {
      "application/vnd.jupyter.widget-view+json": {
       "model_id": "",
       "version_major": 2,
       "version_minor": 0
      },
      "text/plain": [
       "Validating: 0it [00:00, ?it/s]"
      ]
     },
     "metadata": {},
     "output_type": "display_data"
    },
    {
     "data": {
      "application/vnd.jupyter.widget-view+json": {
       "model_id": "",
       "version_major": 2,
       "version_minor": 0
      },
      "text/plain": [
       "Validating: 0it [00:00, ?it/s]"
      ]
     },
     "metadata": {},
     "output_type": "display_data"
    },
    {
     "data": {
      "application/vnd.jupyter.widget-view+json": {
       "model_id": "",
       "version_major": 2,
       "version_minor": 0
      },
      "text/plain": [
       "Validating: 0it [00:00, ?it/s]"
      ]
     },
     "metadata": {},
     "output_type": "display_data"
    },
    {
     "data": {
      "application/vnd.jupyter.widget-view+json": {
       "model_id": "",
       "version_major": 2,
       "version_minor": 0
      },
      "text/plain": [
       "Validating: 0it [00:00, ?it/s]"
      ]
     },
     "metadata": {},
     "output_type": "display_data"
    },
    {
     "data": {
      "application/vnd.jupyter.widget-view+json": {
       "model_id": "",
       "version_major": 2,
       "version_minor": 0
      },
      "text/plain": [
       "Validating: 0it [00:00, ?it/s]"
      ]
     },
     "metadata": {},
     "output_type": "display_data"
    },
    {
     "data": {
      "application/vnd.jupyter.widget-view+json": {
       "model_id": "",
       "version_major": 2,
       "version_minor": 0
      },
      "text/plain": [
       "Validating: 0it [00:00, ?it/s]"
      ]
     },
     "metadata": {},
     "output_type": "display_data"
    },
    {
     "data": {
      "application/vnd.jupyter.widget-view+json": {
       "model_id": "",
       "version_major": 2,
       "version_minor": 0
      },
      "text/plain": [
       "Validating: 0it [00:00, ?it/s]"
      ]
     },
     "metadata": {},
     "output_type": "display_data"
    },
    {
     "data": {
      "application/vnd.jupyter.widget-view+json": {
       "model_id": "",
       "version_major": 2,
       "version_minor": 0
      },
      "text/plain": [
       "Validating: 0it [00:00, ?it/s]"
      ]
     },
     "metadata": {},
     "output_type": "display_data"
    }
   ],
   "source": [
    "checkpoint = \"/home/trossber/street-image-classification/training_run_logs/lightning_logs/version_34/checkpoints/last.ckpt\"\n",
    "trainer = pl.Trainer(#gpus=1,\n",
    "                     gpus=[1],\n",
    "                     default_root_dir=\"/home/trossber/street-image-classification/training_run_logs/\",\n",
    "                     max_epochs=100,\n",
    "                     callbacks=[ModelCheckpoint(save_last=True),\n",
    "                              get_checkpoint_callback(metric=\"f1_val_surface\"), \n",
    "                              get_checkpoint_callback(metric=\"f1_val_smoothness\"), \n",
    "                              get_checkpoint_callback(metric=\"accuracy_val_surface\"), \n",
    "                              get_checkpoint_callback(metric=\"accuracy_val_smoothness\"), \n",
    "                               ],\n",
    "                     #callbacks=[EarlyStopping(monitor='val_loss', patience=20)]\n",
    "                     #resume_from_checkpoint=checkpoint\n",
    "                    )\n",
    "trainer.fit(model, train_loader, val_dataloaders=val_loader)"
   ]
  },
  {
   "cell_type": "markdown",
   "metadata": {},
   "source": [
    "# Checkpoint loader"
   ]
  },
  {
   "cell_type": "code",
   "execution_count": 30,
   "metadata": {},
   "outputs": [
    {
     "name": "stdout",
     "output_type": "stream",
     "text": [
      "Using 3 classes\n",
      "tensor([[-0.1754, -3.9359, -1.9565]], grad_fn=<LogSoftmaxBackward>) tensor([[-1.2401, -0.7259, -1.4839]], grad_fn=<LogSoftmaxBackward>)\n"
     ]
    }
   ],
   "source": [
    "checkpoint_path = \"/home/trossber/street-image-classification/training_run_logs/lightning_logs/version_51/checkpoints/\"\n",
    "checkpoint_path += \"epoch=97-val_loss=0.93-f1_val_surface=0.9231.ckpt\"\n",
    "model_loaded = CargoRocketModel.load_from_checkpoint(checkpoint_path, num_classes=3)\n",
    "\n",
    "x1, x2 = model_loaded(torch.Tensor(np.random.random((1, 3, 256, 256))))\n",
    "print(x1, x2)"
   ]
  },
  {
   "cell_type": "markdown",
   "metadata": {},
   "source": [
    "# Broken img"
   ]
  },
  {
   "cell_type": "code",
   "execution_count": 23,
   "metadata": {
    "scrolled": true
   },
   "outputs": [
    {
     "data": {
      "text/plain": [
       "<matplotlib.image.AxesImage at 0x7f9ccc66b7c0>"
      ]
     },
     "execution_count": 23,
     "metadata": {},
     "output_type": "execute_result"
    },
    {
     "data": {
      "image/png": "[encoded data removed]",
      "text/plain": [
       "<Figure size 432x288 with 1 Axes>"
      ]
     },
     "metadata": {
      "needs_background": "light"
     },
     "output_type": "display_data"
    }
   ],
   "source": [
    "broken_img = \"/home/trossber/street-image-classification/data/raw/images/rJN7Gii8NfYROj8P4t8WbY.jpg\"\n",
    "with Image.open(broken_img) as img:\n",
    "    img_data = np.asarray(img)\n",
    "plt.imshow(img_data)"
   ]
  },
  {
   "cell_type": "markdown",
   "metadata": {},
   "source": [
    "# Predict for validation"
   ]
  },
  {
   "cell_type": "code",
   "execution_count": 81,
   "metadata": {},
   "outputs": [],
   "source": [
    "val_batch = next(iter(val_loader))"
   ]
  },
  {
   "cell_type": "code",
   "execution_count": 84,
   "metadata": {},
   "outputs": [],
   "source": [
    "x = val_batch[\"image\"]\n",
    "y1 = val_batch[\"surface\"]\n",
    "y2 = val_batch[\"smoothness\"]\n",
    "y_hat1, y_hat2 = model(x)"
   ]
  },
  {
   "cell_type": "code",
   "execution_count": 128,
   "metadata": {},
   "outputs": [
    {
     "data": {
      "text/plain": [
       "tensor([2, 1, 0, 2, 2, 0, 0, 0, 0, 1, 1, 2, 1, 2, 1, 2, 1, 2, 0, 2, 2, 0, 2, 1,\n",
       "        0, 2, 0, 1, 1, 0, 2, 2, 2, 1, 1, 1, 0, 0, 2, 2, 2, 1, 0, 2, 0, 0, 1, 2,\n",
       "        0, 1, 0, 0, 0, 1, 0, 2, 0, 0, 2, 1, 2, 2, 1, 1])"
      ]
     },
     "execution_count": 128,
     "metadata": {},
     "output_type": "execute_result"
    }
   ],
   "source": [
    "y_hat1.argmax(axis=1)"
   ]
  },
  {
   "cell_type": "code",
   "execution_count": 130,
   "metadata": {},
   "outputs": [
    {
     "data": {
      "text/plain": [
       "tensor([2, 1, 0, 2, 2, 2, 0, 0, 0, 1, 1, 2, 1, 2, 1, 2, 1, 2, 0, 2, 2, 1, 2, 1,\n",
       "        0, 1, 1, 1, 1, 0, 2, 0, 2, 0, 1, 1, 0, 0, 2, 0, 2, 1, 0, 2, 0, 0, 1, 2,\n",
       "        1, 1, 0, 2, 0, 1, 0, 2, 0, 0, 2, 1, 0, 2, 1, 1])"
      ]
     },
     "execution_count": 130,
     "metadata": {},
     "output_type": "execute_result"
    }
   ],
   "source": [
    "y1"
   ]
  },
  {
   "cell_type": "code",
   "execution_count": 123,
   "metadata": {},
   "outputs": [
    {
     "data": {
      "text/plain": [
       "tensor(0.8438)"
      ]
     },
     "execution_count": 123,
     "metadata": {},
     "output_type": "execute_result"
    }
   ],
   "source": [
    "tp /(tp+fp)"
   ]
  },
  {
   "cell_type": "code",
   "execution_count": 131,
   "metadata": {},
   "outputs": [
    {
     "data": {
      "text/plain": [
       "tensor([ 54,  10, 118,  10,  64])"
      ]
     },
     "execution_count": 131,
     "metadata": {},
     "output_type": "execute_result"
    }
   ],
   "source": [
    "tp, fp, tn, fn, sup = torchmetrics.StatScores(num_classes=3)(y_hat1, y1)\n",
    "torchmetrics.StatScores(num_classes=3)(y_hat1.argmax(axis=1), y1)\n",
    "#  true positives, false positives, true negatives, false negatives\n",
    "# TP, FP, TN, FN, sup"
   ]
  },
  {
   "cell_type": "code",
   "execution_count": 142,
   "metadata": {},
   "outputs": [
    {
     "data": {
      "text/plain": [
       "tensor(0.8438)"
      ]
     },
     "execution_count": 142,
     "metadata": {},
     "output_type": "execute_result"
    }
   ],
   "source": [
    "torchmetrics.Accuracy(average=\"weighted\", num_classes=3)(y_hat1, y1)"
   ]
  },
  {
   "cell_type": "code",
   "execution_count": 103,
   "metadata": {},
   "outputs": [
    {
     "data": {
      "text/plain": [
       "tensor([[17.,  1.,  3.],\n",
       "        [ 3., 18.,  1.],\n",
       "        [ 2.,  0., 19.]])"
      ]
     },
     "execution_count": 103,
     "metadata": {},
     "output_type": "execute_result"
    }
   ],
   "source": [
    "torchmetrics.ConfusionMatrix(num_classes=3)(y_hat1, y1)"
   ]
  },
  {
   "cell_type": "code",
   "execution_count": 98,
   "metadata": {},
   "outputs": [
    {
     "data": {
      "text/plain": [
       "0.84375"
      ]
     },
     "execution_count": 98,
     "metadata": {},
     "output_type": "execute_result"
    }
   ],
   "source": [
    "sum(y_hat1.detach().numpy().argmax(axis=1) == y1.numpy()) / len(y1.numpy())"
   ]
  },
  {
   "cell_type": "code",
   "execution_count": 95,
   "metadata": {},
   "outputs": [
    {
     "name": "stdout",
     "output_type": "stream",
     "text": [
      "2 2\n",
      "1 1\n",
      "0 0\n",
      "2 2\n",
      "2 2\n",
      "0 2\n",
      "0 0\n",
      "0 0\n",
      "0 0\n",
      "1 1\n",
      "1 1\n",
      "2 2\n",
      "1 1\n",
      "2 2\n",
      "1 1\n",
      "2 2\n",
      "1 1\n",
      "2 2\n",
      "0 0\n",
      "2 2\n",
      "2 2\n",
      "0 1\n",
      "2 2\n",
      "1 1\n",
      "0 0\n",
      "2 1\n",
      "0 1\n",
      "1 1\n",
      "1 1\n",
      "0 0\n",
      "2 2\n",
      "2 0\n",
      "2 2\n",
      "1 0\n",
      "1 1\n",
      "1 1\n",
      "0 0\n",
      "0 0\n",
      "2 2\n",
      "2 0\n",
      "2 2\n",
      "1 1\n",
      "0 0\n",
      "2 2\n",
      "0 0\n",
      "0 0\n",
      "1 1\n",
      "2 2\n",
      "0 1\n",
      "1 1\n",
      "0 0\n",
      "0 2\n",
      "0 0\n",
      "1 1\n",
      "0 0\n",
      "2 2\n",
      "0 0\n",
      "0 0\n",
      "2 2\n",
      "1 1\n",
      "2 0\n",
      "2 2\n",
      "1 1\n",
      "1 1\n"
     ]
    }
   ],
   "source": [
    "for pred, true in zip(list(y_hat1.detach().numpy().argmax(axis=1)), list(y1.numpy())):\n",
    "    print(pred, true)"
   ]
  },
  {
   "cell_type": "code",
   "execution_count": 11,
   "metadata": {},
   "outputs": [
    {
     "data": {
      "text/plain": [
       "{'image': tensor([[[[276.0883, 263.5236, 261.9702,  ..., 469.8251, 472.7945, 474.5412],\n",
       "           [337.2610, 317.8046, 319.4400,  ..., 468.0048, 462.7645, 457.3804],\n",
       "           [364.0906, 347.6117, 333.8990,  ..., 448.4882, 453.7144, 457.7853],\n",
       "           ...,\n",
       "           [343.6022, 340.9358, 358.0522,  ..., 340.4449, 374.7145, 404.5305],\n",
       "           [352.8575, 357.0562, 362.0213,  ..., 285.4120, 246.2015, 296.0220],\n",
       "           [352.1953, 346.6461, 340.0551,  ..., 326.5631, 265.3203, 276.9417]],\n",
       " \n",
       "          [[281.4257, 268.5805, 264.0094,  ..., 467.0489, 470.0845, 471.8702],\n",
       "           [344.9186, 325.0279, 322.9054,  ..., 465.1879, 459.8307, 454.3264],\n",
       "           [372.3471, 355.5003, 337.6870,  ..., 445.2357, 450.5786, 454.7403],\n",
       "           ...,\n",
       "           [351.4014, 348.6754, 364.9091,  ..., 346.7072, 378.7438, 406.7161],\n",
       "           [360.8633, 365.1556, 370.1089,  ..., 291.7699, 251.3934, 302.3260],\n",
       "           [360.1862, 354.5132, 347.7751,  ..., 333.9819, 271.3721, 283.2530]],\n",
       " \n",
       "          [[244.5614, 225.9509, 229.8162,  ..., 434.0843, 437.1064, 438.8842],\n",
       "           [298.9823, 276.4474, 279.0648,  ..., 432.2315, 426.8981, 421.4182],\n",
       "           [333.8287, 309.9349, 302.6178,  ..., 412.3680, 417.6872, 421.8304],\n",
       "           ...,\n",
       "           [341.1730, 338.4591, 354.6206,  ..., 333.5797, 359.5050, 386.1040],\n",
       "           [350.5928, 354.8661, 359.7973,  ..., 281.5233, 240.7472, 291.4534],\n",
       "           [349.9187, 344.2709, 337.5627,  ..., 323.8308, 261.4994, 273.3274]]],\n",
       " \n",
       " \n",
       "         [[[520.7571, 517.8911, 521.2235,  ..., 526.7017, 523.0293, 517.4504],\n",
       "           [484.8967, 517.1333, 520.2404,  ..., 524.0972, 525.8375, 524.8993],\n",
       "           [463.3371, 499.2614, 511.5159,  ..., 522.2006, 520.8316, 530.7706],\n",
       "           ...,\n",
       "           [478.0270, 484.1382, 477.7344,  ..., 470.6753, 472.4859, 478.1116],\n",
       "           [471.2502, 484.2322, 486.6618,  ..., 471.5743, 485.4093, 494.1920],\n",
       "           [478.3199, 490.8459, 496.3345,  ..., 476.5681, 493.7871, 502.6008]],\n",
       " \n",
       "          [[496.7964, 493.8663, 498.8467,  ..., 520.7307, 516.9763, 511.2729],\n",
       "           [460.1354, 493.0916, 499.2266,  ..., 518.0681, 519.8473, 518.8881],\n",
       "           [443.3189, 480.4833, 496.5670,  ..., 516.1291, 514.7296, 524.8904],\n",
       "           ...,\n",
       "           [453.1124, 459.3600, 452.8133,  ..., 463.4538, 465.3048, 471.0561],\n",
       "           [446.1843, 459.4561, 461.9400,  ..., 464.3727, 478.5166, 487.4955],\n",
       "           [453.4118, 466.2174, 471.8286,  ..., 469.4781, 487.0814, 496.0919]],\n",
       " \n",
       "          [[437.0328, 434.1158, 438.2908,  ..., 469.7497, 466.0121, 460.3340],\n",
       "           [402.0517, 434.8614, 440.7634,  ..., 467.0990, 468.8702, 467.9153],\n",
       "           [382.1798, 417.3040, 431.3245,  ..., 465.1686, 463.7753, 473.8909],\n",
       "           ...,\n",
       "           [402.4319, 408.6517, 402.1341,  ..., 412.7274, 414.5702, 420.2959],\n",
       "           [395.5346, 408.7474, 411.2203,  ..., 413.6422, 427.7232, 436.6621],\n",
       "           [402.7300, 415.4787, 421.0649,  ..., 418.7249, 436.2500, 445.2204]]],\n",
       " \n",
       " \n",
       "         [[[178.6862, 181.8259, 190.8785,  ..., 118.3972,  95.6444,  93.3433],\n",
       "           [230.8612, 242.5327, 238.9686,  ..., 108.8699,  77.1047,  64.9182],\n",
       "           [248.2388, 230.4893, 239.1174,  ..., 115.4371,  65.4960,  59.1534],\n",
       "           ...,\n",
       "           [408.9086, 417.6502, 480.2627,  ..., 488.4048, 476.6671, 512.1570],\n",
       "           [419.3420, 370.3958, 379.6468,  ..., 487.7439, 497.4234, 509.2875],\n",
       "           [431.0932, 396.6235, 384.2258,  ..., 485.1725, 514.2283, 501.1587]],\n",
       " \n",
       "          [[187.2685, 190.4783, 199.7329,  ..., 125.6337, 105.8025, 104.0630],\n",
       "           [240.6081, 252.5401, 248.8965,  ..., 115.8938,  87.8838,  76.2232],\n",
       "           [257.4196, 239.3526, 248.3866,  ..., 123.8004,  85.7651,  82.5026],\n",
       "           ...,\n",
       "           [348.2716, 355.6736, 419.6837,  ..., 431.8308, 429.4007, 465.6828],\n",
       "           [358.9379, 307.3644, 316.8219,  ..., 432.4622, 450.6203, 462.7492],\n",
       "           [370.9514, 334.1776, 321.5031,  ..., 439.6252, 467.8003, 454.4391]],\n",
       " \n",
       "          [[163.5830, 166.6015, 175.8150,  ..., 103.0754,  89.5906,  80.1960],\n",
       "           [217.5387, 229.4177, 225.7903,  ...,  93.3787,  74.2769,  56.5387],\n",
       "           [237.2033, 218.9746, 227.3124,  ..., 101.1044,  65.5619,  59.4653],\n",
       "           ...,\n",
       "           [289.1682, 296.5374, 360.2629,  ..., 342.3385, 348.5260, 388.2799],\n",
       "           [299.7870, 248.4428, 257.8583,  ..., 342.4269, 369.6513, 385.3593],\n",
       "           [311.7471, 275.1368, 262.5187,  ..., 347.9938, 386.7549, 377.0860]]],\n",
       " \n",
       " \n",
       "         ...,\n",
       " \n",
       " \n",
       "         [[[822.8247, 827.4705, 835.6019,  ..., 282.5781, 234.1287, 182.3907],\n",
       "           [834.1007, 825.7194, 824.8616,  ..., 282.4047, 250.0881, 196.7816],\n",
       "           [827.7421, 833.6591, 833.6875,  ..., 277.1364, 255.1539, 207.2058],\n",
       "           ...,\n",
       "           [414.2576, 393.8749, 396.7107,  ..., 394.5714, 392.8933, 392.2812],\n",
       "           [424.9300, 412.1017, 395.7724,  ..., 397.3675, 406.9146, 398.9143],\n",
       "           [430.8135, 433.3025, 426.3608,  ..., 399.0357, 406.3071, 411.5173]],\n",
       " \n",
       "          [[894.8922, 899.6416, 907.9547,  ..., 293.4794, 248.1648, 202.3210],\n",
       "           [906.4199, 897.8515, 896.9745,  ..., 293.3022, 264.4804, 217.0332],\n",
       "           [899.9194, 905.9684, 905.9975,  ..., 287.9162, 269.6593, 227.6900],\n",
       "           ...,\n",
       "           [415.3272, 394.4896, 397.3886,  ..., 399.0439, 397.3284, 396.7027],\n",
       "           [430.0803, 416.9656, 400.2718,  ..., 401.9025, 411.6627, 403.4838],\n",
       "           [436.0950, 438.6396, 431.5429,  ..., 403.6079, 411.0416, 416.3682]],\n",
       " \n",
       "          [[962.2482, 966.9766, 975.2527,  ..., 311.9113, 273.7038, 237.4079],\n",
       "           [973.7247, 965.1944, 964.3213,  ..., 311.7348, 289.9469, 252.0547],\n",
       "           [967.2531, 973.2753, 973.3042,  ..., 306.3728, 295.1028, 262.6642],\n",
       "           ...,\n",
       "           [416.2906, 395.5456, 398.4317,  ..., 388.6038, 386.8959, 386.2729],\n",
       "           [419.5021, 406.4458, 389.8262,  ..., 391.4496, 401.1665, 393.0239],\n",
       "           [425.4902, 428.0235, 420.9583,  ..., 393.1475, 400.5481, 405.8510]]],\n",
       " \n",
       " \n",
       "         [[[358.5491, 360.2031, 377.5535,  ..., 185.1889, 174.6877, 369.0506],\n",
       "           [537.7770, 521.2716, 519.2215,  ..., 244.2284, 250.8802, 401.5223],\n",
       "           [461.9040, 468.2484, 477.0817,  ..., 227.9713, 237.5244, 391.9807],\n",
       "           ...,\n",
       "           [294.8621, 286.0501, 293.9246,  ..., 294.6087, 294.9426, 314.4823],\n",
       "           [294.1967, 284.2013, 292.0780,  ..., 312.2083, 312.0616, 314.1982],\n",
       "           [293.1763, 280.4277, 290.4237,  ..., 310.0597, 315.4034, 338.1476]],\n",
       " \n",
       "          [[367.3645, 368.0360, 385.3485,  ..., 195.3206, 167.5745, 368.4893],\n",
       "           [566.9043, 547.8546, 545.1411,  ..., 255.6779, 245.4677, 401.6857],\n",
       "           [505.4918, 509.9679, 518.3001,  ..., 244.0299, 246.3221, 395.5789],\n",
       "           ...,\n",
       "           [283.7161, 274.7075, 282.7577,  ..., 283.4571, 283.7984, 303.7743],\n",
       "           [283.0359, 272.8174, 280.8699,  ..., 301.4496, 301.2996, 303.4839],\n",
       "           [281.9927, 268.9595, 279.1786,  ..., 299.2530, 304.7159, 327.9678]],\n",
       " \n",
       "          [[400.2437, 402.2553, 419.5791,  ..., 198.7629, 193.6812, 389.2960],\n",
       "           [615.2061, 601.3897, 599.2606,  ..., 258.8519, 271.2282, 422.3449],\n",
       "           [555.5415, 564.3415, 572.9843,  ..., 247.4897, 267.3503, 415.5751],\n",
       "           ...,\n",
       "           [270.4738, 260.3755, 268.3899,  ..., 269.0862, 269.4260, 289.3131],\n",
       "           [269.7966, 258.4937, 266.5105,  ..., 286.9987, 286.8494, 289.0240],\n",
       "           [268.7581, 254.6531, 264.8268,  ..., 284.8119, 290.2505, 313.3991]]],\n",
       " \n",
       " \n",
       "         [[[286.6601, 287.6822, 282.7466,  ..., 219.9685, 254.7778, 297.4364],\n",
       "           [286.7050, 292.6177, 314.1964,  ..., 248.3739, 274.8188, 318.2438],\n",
       "           [277.3112, 289.6286, 290.0323,  ..., 291.8397, 293.1366, 333.6455],\n",
       "           ...,\n",
       "           [795.8008, 840.2087, 744.7577,  ..., 692.0365, 727.4069, 636.8962],\n",
       "           [743.1614, 757.4771, 770.7457,  ..., 710.3132, 754.4616, 657.9213],\n",
       "           [758.0962, 813.2603, 836.4764,  ..., 782.3896, 719.7237, 757.9158]],\n",
       " \n",
       "          [[378.0097, 379.0545, 374.0089,  ..., 308.1350, 345.4157, 383.2449],\n",
       "           [378.0555, 384.1002, 406.1606,  ..., 328.8150, 361.2455, 399.1759],\n",
       "           [368.4521, 381.0444, 381.4571,  ..., 356.5381, 363.8288, 397.2513],\n",
       "           ...,\n",
       "           [764.5865, 803.5162, 703.4755,  ..., 658.5061, 694.6660, 602.1349],\n",
       "           [710.7722, 718.9379, 730.0436,  ..., 677.1907, 722.3246, 623.6294],\n",
       "           [726.0404, 775.9662, 797.2415,  ..., 750.8760, 686.8113, 725.8559]],\n",
       " \n",
       "          [[172.1074, 173.1477, 168.1244,  ..., 103.3867, 139.6583, 180.1974],\n",
       "           [172.1531, 178.1709, 200.1332,  ..., 127.6324, 157.6521, 187.9116],\n",
       "           [162.5923, 175.1287, 175.5395,  ..., 159.9350, 162.8979, 186.0579],\n",
       "           ...,\n",
       "           [672.5217, 714.4987, 616.1267,  ..., 566.9128, 602.9119, 510.7921],\n",
       "           [618.9465, 630.2963, 642.5767,  ..., 585.5143, 630.4476, 532.1910],\n",
       "           [634.1469, 687.0712, 709.4760,  ..., 658.8721, 595.0921, 633.9631]]]]),\n",
       " 'surface': tensor([0, 0, 1, 2, 0, 2, 1, 2, 0, 1, 1, 1, 1, 2, 1, 2, 0, 0, 2, 2, 2, 1, 2, 1,\n",
       "         1, 1, 0, 0, 2, 0, 1, 1, 2, 1, 0, 1, 0, 1, 0, 1, 2, 0, 2, 1, 1, 1, 0, 2,\n",
       "         1, 0, 0, 1, 2, 2, 2, 1, 1, 1, 0, 1, 2, 0, 0, 1]),\n",
       " 'smoothness': tensor([1, 1, 2, 0, 2, 2, 0, 0, 0, 1, 2, 2, 2, 2, 2, 1, 0, 0, 2, 1, 1, 1, 0, 2,\n",
       "         1, 2, 2, 0, 0, 1, 1, 1, 0, 2, 1, 1, 2, 1, 0, 2, 0, 2, 0, 2, 1, 2, 0, 0,\n",
       "         0, 0, 2, 1, 2, 2, 2, 2, 1, 1, 0, 1, 0, 2, 1, 0]),\n",
       " 'image_path': ['/home/trossber/street-image-classification/data/raw/images/EZqybp4Erh3A1Fw9HAqjJA.jpg',\n",
       "  '/home/trossber/street-image-classification/data/raw/images/TBJzP1YjTRGKUtl27ZfTP6.jpg',\n",
       "  '/home/trossber/street-image-classification/data/raw/images/BBPhzl2-8AhqtFYWgFWMlg.jpg',\n",
       "  '/home/trossber/street-image-classification/data/raw/images/qgzNMm9-rb_09Ec-Hj4E7A.jpg',\n",
       "  '/home/trossber/street-image-classification/data/raw/images/rcMKKTunI3F6YVwcyy8qnP.jpg',\n",
       "  '/home/trossber/street-image-classification/data/raw/images/Lno3yoYIwSnsBMJdlYhiaE.jpg',\n",
       "  '/home/trossber/street-image-classification/data/raw/images/vq7ZM--ff3MmiHVPh4JoLw.jpg',\n",
       "  '/home/trossber/street-image-classification/data/raw/images/Yg4b1z1dbrmYppfyOnkegq.jpg',\n",
       "  '/home/trossber/street-image-classification/data/raw/images/QyeE8hvYyj1KW1nGFe8nTi.jpg',\n",
       "  '/home/trossber/street-image-classification/data/raw/images/2iNL1rNrXacfo7hT9aNm5G.jpg',\n",
       "  '/home/trossber/street-image-classification/data/raw/images/aSSI6ZO43Wxe14ZUBNMJ9F.jpg',\n",
       "  '/home/trossber/street-image-classification/data/raw/images/0lIFbEujoWiSC4pjZBrMuO.jpg',\n",
       "  '/home/trossber/street-image-classification/data/raw/images/pLtiSsEF7mOo5kD8oOzU3Q.jpg',\n",
       "  '/home/trossber/street-image-classification/data/raw/images/BVEL33FCPmw09SUlb1lLTm.jpg',\n",
       "  '/home/trossber/street-image-classification/data/raw/images/ehRQZOXEQ1fZ8dcQXAJtOZ.jpg',\n",
       "  '/home/trossber/street-image-classification/data/raw/images/bffCoqbp14QIc_1Hj3h_iQ.jpg',\n",
       "  '/home/trossber/street-image-classification/data/raw/images/eW4QY24qmXiQYYWpC01MwI.jpg',\n",
       "  '/home/trossber/street-image-classification/data/raw/images/eEog6gWTiNsiRiDnFQ6kSt.jpg',\n",
       "  '/home/trossber/street-image-classification/data/raw/images/2vqPWJTQQAwopqgkvByg5G.jpg',\n",
       "  '/home/trossber/street-image-classification/data/raw/images/OOH5jQbhNRsd0gRmISnQkT.jpg',\n",
       "  '/home/trossber/street-image-classification/data/raw/images/IurAfYqdh7AAJ3rTHm_FMA.jpg',\n",
       "  '/home/trossber/street-image-classification/data/raw/images/bN3CrmV8pjyK4CijXggALK.jpg',\n",
       "  '/home/trossber/street-image-classification/data/raw/images/oCTFdsO8LyCEJXw1oDiIMR.jpg',\n",
       "  '/home/trossber/street-image-classification/data/raw/images/UL1qrrAfC5sXDPbWOjHayY.jpg',\n",
       "  '/home/trossber/street-image-classification/data/raw/images/XVIMvewBGQdbsBuDhwU47i.jpg',\n",
       "  '/home/trossber/street-image-classification/data/raw/images/cFNj-kPUSy1MsvJ0gEo92g.jpg',\n",
       "  '/home/trossber/street-image-classification/data/raw/images/NhqLSLVlD3Yiuhy1AFAu2A.jpg',\n",
       "  '/home/trossber/street-image-classification/data/raw/images/sAJ1ycz9QO5Y95GkyYMwjw.jpg',\n",
       "  '/home/trossber/street-image-classification/data/raw/images/UtZdnDZscfbVBmQPaEglEK.jpg',\n",
       "  '/home/trossber/street-image-classification/data/raw/images/eg_BR608JDQNNLQq4sWvJA.jpg',\n",
       "  '/home/trossber/street-image-classification/data/raw/images/gUXeViy3MVrTF1YBrIS7J7.jpg',\n",
       "  '/home/trossber/street-image-classification/data/raw/images/zRIAr0aRdLHMBjafxnvCh3.jpg',\n",
       "  '/home/trossber/street-image-classification/data/raw/images/ab7pLsHJIMjBgsYRZKD1Aw.jpg',\n",
       "  '/home/trossber/street-image-classification/data/raw/images/MwjBlzXtNcp1v4ViNyFQ4Q.jpg',\n",
       "  '/home/trossber/street-image-classification/data/raw/images/J5PyIZ8e5JwYgsbXvq14nI.jpg',\n",
       "  '/home/trossber/street-image-classification/data/raw/images/323EMVGhcMRx1P6kHyhHbK.jpg',\n",
       "  '/home/trossber/street-image-classification/data/raw/images/XhHd3XWm70FGlgiiZGAfiz.jpg',\n",
       "  '/home/trossber/street-image-classification/data/raw/images/k9eTZdNI1YZBiFuEol3t3x.jpg',\n",
       "  '/home/trossber/street-image-classification/data/raw/images/R6yV3zrlHRl7JPP7YpMPTt.jpg',\n",
       "  '/home/trossber/street-image-classification/data/raw/images/8GszyrxU9UMtb6HR5DRwQg.jpg',\n",
       "  '/home/trossber/street-image-classification/data/raw/images/BsJUGCIn9ZmduKRrCT4k4f.jpg',\n",
       "  '/home/trossber/street-image-classification/data/raw/images/TIpFPkCxiebJ1EhyvLgleQ.jpg',\n",
       "  '/home/trossber/street-image-classification/data/raw/images/WUrXjrZo6mDCvEyFtnKgXC.jpg',\n",
       "  '/home/trossber/street-image-classification/data/raw/images/9u-_j5gtFoM6_aCFYN5VIQ.jpg',\n",
       "  '/home/trossber/street-image-classification/data/raw/images/I1YbIpYomCI3ASxwCwPP3O.jpg',\n",
       "  '/home/trossber/street-image-classification/data/raw/images/H5SCVyNgz7FvqEhNprf2Vd.jpg',\n",
       "  '/home/trossber/street-image-classification/data/raw/images/r4eXjhEqK6bFVslFXPTDaQ.jpg',\n",
       "  '/home/trossber/street-image-classification/data/raw/images/vWX1Bt3eoJoKusohC8ZDZN.jpg',\n",
       "  '/home/trossber/street-image-classification/data/raw/images/nw3yaTZjb67Ter6fFBvGXv.jpg',\n",
       "  '/home/trossber/street-image-classification/data/raw/images/wCtS1slAqobnOvXRlcOvgQ.jpg',\n",
       "  '/home/trossber/street-image-classification/data/raw/images/lZtMuKD3WF6H87SQPSn5gD.jpg',\n",
       "  '/home/trossber/street-image-classification/data/raw/images/pDn1epgb5kVlcTvtwPYSJY.jpg',\n",
       "  '/home/trossber/street-image-classification/data/raw/images/haiQ12rr7THrKZRVJ7irs0.jpg',\n",
       "  '/home/trossber/street-image-classification/data/raw/images/o3mWe9suQfmFYy1fUXeFxQ.jpg',\n",
       "  '/home/trossber/street-image-classification/data/raw/images/4fvhLV2KFmija8YvbknQvC.jpg',\n",
       "  '/home/trossber/street-image-classification/data/raw/images/IuovruabOeTH8vaG9mQHQB.jpg',\n",
       "  '/home/trossber/street-image-classification/data/raw/images/RUo1ILY03rJ3UpSleD8rFw.jpg',\n",
       "  '/home/trossber/street-image-classification/data/raw/images/v2CxLn37hpLlAfMHpit3Za.jpg',\n",
       "  '/home/trossber/street-image-classification/data/raw/images/T8Uu5KS99Z5oPW3QiPjJ3V.jpg',\n",
       "  '/home/trossber/street-image-classification/data/raw/images/eC0ODPjsPAXHY0buum1Aqr.jpg',\n",
       "  '/home/trossber/street-image-classification/data/raw/images/WELJG6kIbYv0TbjfzOfgWQ.jpg',\n",
       "  '/home/trossber/street-image-classification/data/raw/images/7y7YTG21eFW3z271WdBnL1.jpg',\n",
       "  '/home/trossber/street-image-classification/data/raw/images/RPP2Bs1NoyIES6Vr6BQm2t.jpg',\n",
       "  '/home/trossber/street-image-classification/data/raw/images/ojzcIzx8BSdU3itIr3ORRw.jpg']}"
      ]
     },
     "execution_count": 11,
     "metadata": {},
     "output_type": "execute_result"
    }
   ],
   "source": [
    "next(iter(val_loader))"
   ]
  },
  {
   "cell_type": "code",
   "execution_count": 64,
   "metadata": {},
   "outputs": [
    {
     "data": {
      "text/plain": [
       "CargoRocketModel(\n",
       "  (model): ResNet(\n",
       "    (conv1): Conv2d(3, 64, kernel_size=(7, 7), stride=(2, 2), padding=(3, 3), bias=False)\n",
       "    (bn1): BatchNorm2d(64, eps=1e-05, momentum=0.1, affine=True, track_running_stats=True)\n",
       "    (relu): ReLU(inplace=True)\n",
       "    (maxpool): MaxPool2d(kernel_size=3, stride=2, padding=1, dilation=1, ceil_mode=False)\n",
       "    (layer1): Sequential(\n",
       "      (0): Bottleneck(\n",
       "        (conv1): Conv2d(64, 64, kernel_size=(1, 1), stride=(1, 1), bias=False)\n",
       "        (bn1): BatchNorm2d(64, eps=1e-05, momentum=0.1, affine=True, track_running_stats=True)\n",
       "        (conv2): Conv2d(64, 64, kernel_size=(3, 3), stride=(1, 1), padding=(1, 1), bias=False)\n",
       "        (bn2): BatchNorm2d(64, eps=1e-05, momentum=0.1, affine=True, track_running_stats=True)\n",
       "        (conv3): Conv2d(64, 256, kernel_size=(1, 1), stride=(1, 1), bias=False)\n",
       "        (bn3): BatchNorm2d(256, eps=1e-05, momentum=0.1, affine=True, track_running_stats=True)\n",
       "        (relu): ReLU(inplace=True)\n",
       "        (downsample): Sequential(\n",
       "          (0): Conv2d(64, 256, kernel_size=(1, 1), stride=(1, 1), bias=False)\n",
       "          (1): BatchNorm2d(256, eps=1e-05, momentum=0.1, affine=True, track_running_stats=True)\n",
       "        )\n",
       "      )\n",
       "      (1): Bottleneck(\n",
       "        (conv1): Conv2d(256, 64, kernel_size=(1, 1), stride=(1, 1), bias=False)\n",
       "        (bn1): BatchNorm2d(64, eps=1e-05, momentum=0.1, affine=True, track_running_stats=True)\n",
       "        (conv2): Conv2d(64, 64, kernel_size=(3, 3), stride=(1, 1), padding=(1, 1), bias=False)\n",
       "        (bn2): BatchNorm2d(64, eps=1e-05, momentum=0.1, affine=True, track_running_stats=True)\n",
       "        (conv3): Conv2d(64, 256, kernel_size=(1, 1), stride=(1, 1), bias=False)\n",
       "        (bn3): BatchNorm2d(256, eps=1e-05, momentum=0.1, affine=True, track_running_stats=True)\n",
       "        (relu): ReLU(inplace=True)\n",
       "      )\n",
       "      (2): Bottleneck(\n",
       "        (conv1): Conv2d(256, 64, kernel_size=(1, 1), stride=(1, 1), bias=False)\n",
       "        (bn1): BatchNorm2d(64, eps=1e-05, momentum=0.1, affine=True, track_running_stats=True)\n",
       "        (conv2): Conv2d(64, 64, kernel_size=(3, 3), stride=(1, 1), padding=(1, 1), bias=False)\n",
       "        (bn2): BatchNorm2d(64, eps=1e-05, momentum=0.1, affine=True, track_running_stats=True)\n",
       "        (conv3): Conv2d(64, 256, kernel_size=(1, 1), stride=(1, 1), bias=False)\n",
       "        (bn3): BatchNorm2d(256, eps=1e-05, momentum=0.1, affine=True, track_running_stats=True)\n",
       "        (relu): ReLU(inplace=True)\n",
       "      )\n",
       "    )\n",
       "    (layer2): Sequential(\n",
       "      (0): Bottleneck(\n",
       "        (conv1): Conv2d(256, 128, kernel_size=(1, 1), stride=(1, 1), bias=False)\n",
       "        (bn1): BatchNorm2d(128, eps=1e-05, momentum=0.1, affine=True, track_running_stats=True)\n",
       "        (conv2): Conv2d(128, 128, kernel_size=(3, 3), stride=(2, 2), padding=(1, 1), bias=False)\n",
       "        (bn2): BatchNorm2d(128, eps=1e-05, momentum=0.1, affine=True, track_running_stats=True)\n",
       "        (conv3): Conv2d(128, 512, kernel_size=(1, 1), stride=(1, 1), bias=False)\n",
       "        (bn3): BatchNorm2d(512, eps=1e-05, momentum=0.1, affine=True, track_running_stats=True)\n",
       "        (relu): ReLU(inplace=True)\n",
       "        (downsample): Sequential(\n",
       "          (0): Conv2d(256, 512, kernel_size=(1, 1), stride=(2, 2), bias=False)\n",
       "          (1): BatchNorm2d(512, eps=1e-05, momentum=0.1, affine=True, track_running_stats=True)\n",
       "        )\n",
       "      )\n",
       "      (1): Bottleneck(\n",
       "        (conv1): Conv2d(512, 128, kernel_size=(1, 1), stride=(1, 1), bias=False)\n",
       "        (bn1): BatchNorm2d(128, eps=1e-05, momentum=0.1, affine=True, track_running_stats=True)\n",
       "        (conv2): Conv2d(128, 128, kernel_size=(3, 3), stride=(1, 1), padding=(1, 1), bias=False)\n",
       "        (bn2): BatchNorm2d(128, eps=1e-05, momentum=0.1, affine=True, track_running_stats=True)\n",
       "        (conv3): Conv2d(128, 512, kernel_size=(1, 1), stride=(1, 1), bias=False)\n",
       "        (bn3): BatchNorm2d(512, eps=1e-05, momentum=0.1, affine=True, track_running_stats=True)\n",
       "        (relu): ReLU(inplace=True)\n",
       "      )\n",
       "      (2): Bottleneck(\n",
       "        (conv1): Conv2d(512, 128, kernel_size=(1, 1), stride=(1, 1), bias=False)\n",
       "        (bn1): BatchNorm2d(128, eps=1e-05, momentum=0.1, affine=True, track_running_stats=True)\n",
       "        (conv2): Conv2d(128, 128, kernel_size=(3, 3), stride=(1, 1), padding=(1, 1), bias=False)\n",
       "        (bn2): BatchNorm2d(128, eps=1e-05, momentum=0.1, affine=True, track_running_stats=True)\n",
       "        (conv3): Conv2d(128, 512, kernel_size=(1, 1), stride=(1, 1), bias=False)\n",
       "        (bn3): BatchNorm2d(512, eps=1e-05, momentum=0.1, affine=True, track_running_stats=True)\n",
       "        (relu): ReLU(inplace=True)\n",
       "      )\n",
       "      (3): Bottleneck(\n",
       "        (conv1): Conv2d(512, 128, kernel_size=(1, 1), stride=(1, 1), bias=False)\n",
       "        (bn1): BatchNorm2d(128, eps=1e-05, momentum=0.1, affine=True, track_running_stats=True)\n",
       "        (conv2): Conv2d(128, 128, kernel_size=(3, 3), stride=(1, 1), padding=(1, 1), bias=False)\n",
       "        (bn2): BatchNorm2d(128, eps=1e-05, momentum=0.1, affine=True, track_running_stats=True)\n",
       "        (conv3): Conv2d(128, 512, kernel_size=(1, 1), stride=(1, 1), bias=False)\n",
       "        (bn3): BatchNorm2d(512, eps=1e-05, momentum=0.1, affine=True, track_running_stats=True)\n",
       "        (relu): ReLU(inplace=True)\n",
       "      )\n",
       "    )\n",
       "    (layer3): Sequential(\n",
       "      (0): Bottleneck(\n",
       "        (conv1): Conv2d(512, 256, kernel_size=(1, 1), stride=(1, 1), bias=False)\n",
       "        (bn1): BatchNorm2d(256, eps=1e-05, momentum=0.1, affine=True, track_running_stats=True)\n",
       "        (conv2): Conv2d(256, 256, kernel_size=(3, 3), stride=(2, 2), padding=(1, 1), bias=False)\n",
       "        (bn2): BatchNorm2d(256, eps=1e-05, momentum=0.1, affine=True, track_running_stats=True)\n",
       "        (conv3): Conv2d(256, 1024, kernel_size=(1, 1), stride=(1, 1), bias=False)\n",
       "        (bn3): BatchNorm2d(1024, eps=1e-05, momentum=0.1, affine=True, track_running_stats=True)\n",
       "        (relu): ReLU(inplace=True)\n",
       "        (downsample): Sequential(\n",
       "          (0): Conv2d(512, 1024, kernel_size=(1, 1), stride=(2, 2), bias=False)\n",
       "          (1): BatchNorm2d(1024, eps=1e-05, momentum=0.1, affine=True, track_running_stats=True)\n",
       "        )\n",
       "      )\n",
       "      (1): Bottleneck(\n",
       "        (conv1): Conv2d(1024, 256, kernel_size=(1, 1), stride=(1, 1), bias=False)\n",
       "        (bn1): BatchNorm2d(256, eps=1e-05, momentum=0.1, affine=True, track_running_stats=True)\n",
       "        (conv2): Conv2d(256, 256, kernel_size=(3, 3), stride=(1, 1), padding=(1, 1), bias=False)\n",
       "        (bn2): BatchNorm2d(256, eps=1e-05, momentum=0.1, affine=True, track_running_stats=True)\n",
       "        (conv3): Conv2d(256, 1024, kernel_size=(1, 1), stride=(1, 1), bias=False)\n",
       "        (bn3): BatchNorm2d(1024, eps=1e-05, momentum=0.1, affine=True, track_running_stats=True)\n",
       "        (relu): ReLU(inplace=True)\n",
       "      )\n",
       "      (2): Bottleneck(\n",
       "        (conv1): Conv2d(1024, 256, kernel_size=(1, 1), stride=(1, 1), bias=False)\n",
       "        (bn1): BatchNorm2d(256, eps=1e-05, momentum=0.1, affine=True, track_running_stats=True)\n",
       "        (conv2): Conv2d(256, 256, kernel_size=(3, 3), stride=(1, 1), padding=(1, 1), bias=False)\n",
       "        (bn2): BatchNorm2d(256, eps=1e-05, momentum=0.1, affine=True, track_running_stats=True)\n",
       "        (conv3): Conv2d(256, 1024, kernel_size=(1, 1), stride=(1, 1), bias=False)\n",
       "        (bn3): BatchNorm2d(1024, eps=1e-05, momentum=0.1, affine=True, track_running_stats=True)\n",
       "        (relu): ReLU(inplace=True)\n",
       "      )\n",
       "      (3): Bottleneck(\n",
       "        (conv1): Conv2d(1024, 256, kernel_size=(1, 1), stride=(1, 1), bias=False)\n",
       "        (bn1): BatchNorm2d(256, eps=1e-05, momentum=0.1, affine=True, track_running_stats=True)\n",
       "        (conv2): Conv2d(256, 256, kernel_size=(3, 3), stride=(1, 1), padding=(1, 1), bias=False)\n",
       "        (bn2): BatchNorm2d(256, eps=1e-05, momentum=0.1, affine=True, track_running_stats=True)\n",
       "        (conv3): Conv2d(256, 1024, kernel_size=(1, 1), stride=(1, 1), bias=False)\n",
       "        (bn3): BatchNorm2d(1024, eps=1e-05, momentum=0.1, affine=True, track_running_stats=True)\n",
       "        (relu): ReLU(inplace=True)\n",
       "      )\n",
       "      (4): Bottleneck(\n",
       "        (conv1): Conv2d(1024, 256, kernel_size=(1, 1), stride=(1, 1), bias=False)\n",
       "        (bn1): BatchNorm2d(256, eps=1e-05, momentum=0.1, affine=True, track_running_stats=True)\n",
       "        (conv2): Conv2d(256, 256, kernel_size=(3, 3), stride=(1, 1), padding=(1, 1), bias=False)\n",
       "        (bn2): BatchNorm2d(256, eps=1e-05, momentum=0.1, affine=True, track_running_stats=True)\n",
       "        (conv3): Conv2d(256, 1024, kernel_size=(1, 1), stride=(1, 1), bias=False)\n",
       "        (bn3): BatchNorm2d(1024, eps=1e-05, momentum=0.1, affine=True, track_running_stats=True)\n",
       "        (relu): ReLU(inplace=True)\n",
       "      )\n",
       "      (5): Bottleneck(\n",
       "        (conv1): Conv2d(1024, 256, kernel_size=(1, 1), stride=(1, 1), bias=False)\n",
       "        (bn1): BatchNorm2d(256, eps=1e-05, momentum=0.1, affine=True, track_running_stats=True)\n",
       "        (conv2): Conv2d(256, 256, kernel_size=(3, 3), stride=(1, 1), padding=(1, 1), bias=False)\n",
       "        (bn2): BatchNorm2d(256, eps=1e-05, momentum=0.1, affine=True, track_running_stats=True)\n",
       "        (conv3): Conv2d(256, 1024, kernel_size=(1, 1), stride=(1, 1), bias=False)\n",
       "        (bn3): BatchNorm2d(1024, eps=1e-05, momentum=0.1, affine=True, track_running_stats=True)\n",
       "        (relu): ReLU(inplace=True)\n",
       "      )\n",
       "    )\n",
       "    (layer4): Sequential(\n",
       "      (0): Bottleneck(\n",
       "        (conv1): Conv2d(1024, 512, kernel_size=(1, 1), stride=(1, 1), bias=False)\n",
       "        (bn1): BatchNorm2d(512, eps=1e-05, momentum=0.1, affine=True, track_running_stats=True)\n",
       "        (conv2): Conv2d(512, 512, kernel_size=(3, 3), stride=(2, 2), padding=(1, 1), bias=False)\n",
       "        (bn2): BatchNorm2d(512, eps=1e-05, momentum=0.1, affine=True, track_running_stats=True)\n",
       "        (conv3): Conv2d(512, 2048, kernel_size=(1, 1), stride=(1, 1), bias=False)\n",
       "        (bn3): BatchNorm2d(2048, eps=1e-05, momentum=0.1, affine=True, track_running_stats=True)\n",
       "        (relu): ReLU(inplace=True)\n",
       "        (downsample): Sequential(\n",
       "          (0): Conv2d(1024, 2048, kernel_size=(1, 1), stride=(2, 2), bias=False)\n",
       "          (1): BatchNorm2d(2048, eps=1e-05, momentum=0.1, affine=True, track_running_stats=True)\n",
       "        )\n",
       "      )\n",
       "      (1): Bottleneck(\n",
       "        (conv1): Conv2d(2048, 512, kernel_size=(1, 1), stride=(1, 1), bias=False)\n",
       "        (bn1): BatchNorm2d(512, eps=1e-05, momentum=0.1, affine=True, track_running_stats=True)\n",
       "        (conv2): Conv2d(512, 512, kernel_size=(3, 3), stride=(1, 1), padding=(1, 1), bias=False)\n",
       "        (bn2): BatchNorm2d(512, eps=1e-05, momentum=0.1, affine=True, track_running_stats=True)\n",
       "        (conv3): Conv2d(512, 2048, kernel_size=(1, 1), stride=(1, 1), bias=False)\n",
       "        (bn3): BatchNorm2d(2048, eps=1e-05, momentum=0.1, affine=True, track_running_stats=True)\n",
       "        (relu): ReLU(inplace=True)\n",
       "      )\n",
       "      (2): Bottleneck(\n",
       "        (conv1): Conv2d(2048, 512, kernel_size=(1, 1), stride=(1, 1), bias=False)\n",
       "        (bn1): BatchNorm2d(512, eps=1e-05, momentum=0.1, affine=True, track_running_stats=True)\n",
       "        (conv2): Conv2d(512, 512, kernel_size=(3, 3), stride=(1, 1), padding=(1, 1), bias=False)\n",
       "        (bn2): BatchNorm2d(512, eps=1e-05, momentum=0.1, affine=True, track_running_stats=True)\n",
       "        (conv3): Conv2d(512, 2048, kernel_size=(1, 1), stride=(1, 1), bias=False)\n",
       "        (bn3): BatchNorm2d(2048, eps=1e-05, momentum=0.1, affine=True, track_running_stats=True)\n",
       "        (relu): ReLU(inplace=True)\n",
       "      )\n",
       "    )\n",
       "    (avgpool): AdaptiveAvgPool2d(output_size=(1, 1))\n",
       "    (fc): Sequential(\n",
       "      (0): Flatten(start_dim=1, end_dim=-1)\n",
       "      (1): Linear(in_features=2048, out_features=512, bias=True)\n",
       "      (2): ReLU()\n",
       "      (3): Dropout(p=0.2, inplace=False)\n",
       "    )\n",
       "    (fc_task1): Sequential(\n",
       "      (0): Linear(in_features=512, out_features=3, bias=True)\n",
       "      (1): LogSoftmax(dim=1)\n",
       "    )\n",
       "    (fc_task2): Sequential(\n",
       "      (0): Linear(in_features=512, out_features=3, bias=True)\n",
       "      (1): LogSoftmax(dim=1)\n",
       "    )\n",
       "  )\n",
       "  (criterion1): NLLLoss()\n",
       "  (criterion2): NLLLoss()\n",
       "  (accuracy1): Accuracy()\n",
       "  (accuracy2): Accuracy()\n",
       ")"
      ]
     },
     "execution_count": 64,
     "metadata": {},
     "output_type": "execute_result"
    }
   ],
   "source": [
    "checkpoint_path = \"/home/trossber/street-image-classification/training_run_logs/lightning_logs/version_23/checkpoints/last.ckpt\"\n",
    "model_trained = CargoRocketModel().load_from_checkpoint(checkpoint_path, num_classes=3).to(\"cuda:1\")\n",
    "model_trained.eval()"
   ]
  },
  {
   "cell_type": "code",
   "execution_count": 73,
   "metadata": {},
   "outputs": [],
   "source": [
    "df_preds = pd.DataFrame()"
   ]
  },
  {
   "cell_type": "code",
   "execution_count": 74,
   "metadata": {},
   "outputs": [
    {
     "data": {
      "application/vnd.jupyter.widget-view+json": {
       "model_id": "ec946176f281439a999387a26f56974e",
       "version_major": 2,
       "version_minor": 0
      },
      "text/plain": [
       "  0%|          | 0/313 [00:00<?, ?it/s]"
      ]
     },
     "metadata": {},
     "output_type": "display_data"
    },
    {
     "name": "stdout",
     "output_type": "stream",
     "text": [
      "(64, 5)\n",
      "(128, 5)\n",
      "(192, 5)\n",
      "(256, 5)\n",
      "(320, 5)\n",
      "(384, 5)\n",
      "(448, 5)\n",
      "(512, 5)\n",
      "(576, 5)\n",
      "(640, 5)\n",
      "(704, 5)\n",
      "(768, 5)\n",
      "(832, 5)\n",
      "(896, 5)\n",
      "(960, 5)\n",
      "(1024, 5)\n",
      "(1088, 5)\n",
      "(1152, 5)\n",
      "(1216, 5)\n",
      "(1280, 5)\n",
      "(1344, 5)\n",
      "(1408, 5)\n",
      "(1472, 5)\n",
      "(1536, 5)\n",
      "(1600, 5)\n",
      "(1664, 5)\n",
      "(1728, 5)\n",
      "(1792, 5)\n",
      "(1856, 5)\n",
      "(1920, 5)\n",
      "(1984, 5)\n",
      "(2048, 5)\n",
      "(2112, 5)\n",
      "(2176, 5)\n",
      "(2240, 5)\n",
      "(2304, 5)\n",
      "(2368, 5)\n",
      "(2432, 5)\n",
      "(2496, 5)\n",
      "(2560, 5)\n",
      "(2624, 5)\n",
      "(2688, 5)\n",
      "(2752, 5)\n",
      "(2816, 5)\n",
      "(2880, 5)\n",
      "(2944, 5)\n",
      "(3008, 5)\n",
      "(3072, 5)\n",
      "(3136, 5)\n",
      "(3200, 5)\n",
      "(3264, 5)\n",
      "(3328, 5)\n",
      "(3392, 5)\n",
      "(3456, 5)\n",
      "(3520, 5)\n",
      "(3584, 5)\n",
      "(3648, 5)\n",
      "(3712, 5)\n",
      "(3776, 5)\n",
      "(3840, 5)\n",
      "(3904, 5)\n",
      "(3968, 5)\n",
      "(4032, 5)\n",
      "(4096, 5)\n",
      "(4160, 5)\n",
      "(4224, 5)\n",
      "(4288, 5)\n",
      "(4352, 5)\n",
      "(4416, 5)\n",
      "(4480, 5)\n",
      "(4544, 5)\n",
      "(4608, 5)\n",
      "(4672, 5)\n",
      "(4736, 5)\n",
      "(4800, 5)\n",
      "(4864, 5)\n",
      "(4928, 5)\n",
      "(4992, 5)\n",
      "(5056, 5)\n",
      "(5120, 5)\n",
      "(5184, 5)\n",
      "(5248, 5)\n",
      "(5312, 5)\n",
      "(5376, 5)\n",
      "(5440, 5)\n",
      "(5504, 5)\n",
      "(5568, 5)\n",
      "(5632, 5)\n",
      "(5696, 5)\n",
      "(5760, 5)\n",
      "(5824, 5)\n",
      "(5888, 5)\n",
      "(5952, 5)\n",
      "(6016, 5)\n",
      "(6080, 5)\n",
      "(6144, 5)\n",
      "(6208, 5)\n",
      "(6272, 5)\n",
      "(6336, 5)\n",
      "(6400, 5)\n",
      "(6464, 5)\n",
      "(6528, 5)\n",
      "(6592, 5)\n",
      "(6656, 5)\n",
      "(6720, 5)\n",
      "(6784, 5)\n",
      "(6848, 5)\n",
      "(6912, 5)\n",
      "(6976, 5)\n",
      "(7040, 5)\n",
      "(7104, 5)\n",
      "(7168, 5)\n",
      "(7232, 5)\n",
      "(7296, 5)\n",
      "(7360, 5)\n",
      "(7424, 5)\n",
      "(7488, 5)\n",
      "(7552, 5)\n",
      "(7616, 5)\n",
      "(7680, 5)\n",
      "(7744, 5)\n",
      "(7808, 5)\n",
      "(7872, 5)\n",
      "(7936, 5)\n",
      "(8000, 5)\n",
      "(8064, 5)\n",
      "(8128, 5)\n",
      "(8192, 5)\n",
      "(8256, 5)\n",
      "(8320, 5)\n",
      "(8384, 5)\n",
      "(8448, 5)\n",
      "(8512, 5)\n",
      "(8576, 5)\n",
      "(8640, 5)\n",
      "(8704, 5)\n",
      "(8768, 5)\n",
      "(8832, 5)\n",
      "(8896, 5)\n",
      "(8960, 5)\n",
      "(9024, 5)\n",
      "(9088, 5)\n",
      "(9152, 5)\n",
      "(9216, 5)\n",
      "(9280, 5)\n",
      "(9344, 5)\n",
      "(9408, 5)\n",
      "(9472, 5)\n",
      "(9536, 5)\n",
      "(9600, 5)\n",
      "(9664, 5)\n",
      "(9728, 5)\n",
      "(9792, 5)\n",
      "(9856, 5)\n",
      "(9920, 5)\n",
      "(9984, 5)\n",
      "(10048, 5)\n",
      "(10112, 5)\n",
      "(10176, 5)\n",
      "(10240, 5)\n",
      "(10304, 5)\n",
      "(10368, 5)\n",
      "(10432, 5)\n",
      "(10496, 5)\n",
      "(10560, 5)\n",
      "(10624, 5)\n",
      "(10688, 5)\n",
      "(10752, 5)\n",
      "(10816, 5)\n",
      "(10880, 5)\n",
      "(10944, 5)\n",
      "(11008, 5)\n",
      "(11072, 5)\n",
      "(11136, 5)\n",
      "(11200, 5)\n",
      "(11264, 5)\n",
      "(11328, 5)\n",
      "(11392, 5)\n",
      "(11456, 5)\n",
      "(11520, 5)\n",
      "(11584, 5)\n",
      "(11648, 5)\n",
      "(11712, 5)\n",
      "(11776, 5)\n",
      "(11840, 5)\n",
      "(11904, 5)\n",
      "(11968, 5)\n",
      "(12032, 5)\n",
      "(12096, 5)\n",
      "(12160, 5)\n",
      "(12224, 5)\n",
      "(12288, 5)\n",
      "(12352, 5)\n",
      "(12416, 5)\n",
      "(12480, 5)\n",
      "(12544, 5)\n",
      "(12608, 5)\n",
      "(12672, 5)\n",
      "(12736, 5)\n",
      "(12800, 5)\n",
      "(12864, 5)\n",
      "(12928, 5)\n",
      "(12992, 5)\n",
      "(13056, 5)\n",
      "(13120, 5)\n",
      "(13184, 5)\n",
      "(13248, 5)\n",
      "(13312, 5)\n",
      "(13376, 5)\n",
      "(13440, 5)\n",
      "(13504, 5)\n",
      "(13568, 5)\n",
      "(13632, 5)\n",
      "(13696, 5)\n",
      "(13760, 5)\n",
      "(13824, 5)\n",
      "(13888, 5)\n",
      "(13952, 5)\n",
      "(14016, 5)\n",
      "(14080, 5)\n",
      "(14144, 5)\n",
      "(14208, 5)\n",
      "(14272, 5)\n",
      "(14336, 5)\n",
      "(14400, 5)\n",
      "(14464, 5)\n",
      "(14528, 5)\n",
      "(14592, 5)\n",
      "(14656, 5)\n",
      "(14720, 5)\n",
      "(14784, 5)\n",
      "(14848, 5)\n",
      "(14912, 5)\n",
      "(14976, 5)\n",
      "(15040, 5)\n",
      "(15104, 5)\n",
      "(15168, 5)\n",
      "(15232, 5)\n",
      "(15296, 5)\n",
      "(15360, 5)\n",
      "(15424, 5)\n",
      "(15488, 5)\n",
      "(15552, 5)\n",
      "(15616, 5)\n",
      "(15680, 5)\n",
      "(15744, 5)\n",
      "(15808, 5)\n",
      "(15872, 5)\n",
      "(15936, 5)\n",
      "(16000, 5)\n",
      "(16064, 5)\n",
      "(16128, 5)\n",
      "(16192, 5)\n",
      "(16256, 5)\n",
      "(16320, 5)\n",
      "(16384, 5)\n",
      "(16448, 5)\n",
      "(16512, 5)\n",
      "(16576, 5)\n",
      "(16640, 5)\n",
      "(16704, 5)\n",
      "(16768, 5)\n",
      "(16832, 5)\n",
      "(16896, 5)\n",
      "(16960, 5)\n",
      "(17024, 5)\n",
      "(17088, 5)\n",
      "(17152, 5)\n",
      "(17216, 5)\n",
      "(17280, 5)\n",
      "(17344, 5)\n",
      "(17408, 5)\n",
      "(17472, 5)\n",
      "(17536, 5)\n",
      "(17600, 5)\n",
      "(17664, 5)\n",
      "(17728, 5)\n",
      "(17792, 5)\n",
      "(17856, 5)\n",
      "(17920, 5)\n",
      "(17984, 5)\n",
      "(18048, 5)\n",
      "(18112, 5)\n",
      "(18176, 5)\n",
      "(18240, 5)\n",
      "(18304, 5)\n",
      "(18368, 5)\n",
      "(18432, 5)\n",
      "(18496, 5)\n",
      "(18560, 5)\n",
      "(18624, 5)\n",
      "(18688, 5)\n",
      "(18752, 5)\n",
      "(18816, 5)\n",
      "(18880, 5)\n",
      "(18944, 5)\n",
      "(19008, 5)\n",
      "(19072, 5)\n",
      "(19136, 5)\n",
      "(19200, 5)\n",
      "(19264, 5)\n",
      "(19328, 5)\n",
      "(19392, 5)\n",
      "(19456, 5)\n",
      "(19520, 5)\n",
      "(19584, 5)\n",
      "(19648, 5)\n",
      "(19712, 5)\n",
      "(19776, 5)\n",
      "(19840, 5)\n",
      "(19904, 5)\n",
      "(19968, 5)\n",
      "(20015, 5)\n"
     ]
    }
   ],
   "source": [
    "for batch in tqdm(val_loader):\n",
    "    x = batch[\"image\"].to(model_trained.device)\n",
    "    label_surface = batch[\"surface\"]\n",
    "    label_smoothness = batch[\"smoothness\"]\n",
    "    image_path = batch[\"image_path\"]\n",
    "    preds_surface, preds_smoothness = model_trained(x)\n",
    "    label_surface_pred = np.exp(preds_surface.detach().cpu().numpy()).argmax(axis=1)\n",
    "    label_smoothness_pred = np.exp(preds_smoothness.detach().cpu().numpy()).argmax(axis=1)\n",
    "    \n",
    "    df_batch = pd.DataFrame({\n",
    "    \"image_id\": [Path(i).stem for i in image_path],\n",
    "    \"surface_true\": label_surface.numpy(),\n",
    "    \"smoothness_true\": label_smoothness.numpy(),\n",
    "    \"surface_pred\": label_surface_pred,\n",
    "    \"smoothness_pred\": label_smoothness_pred,\n",
    "    })\n",
    "    df_preds = df_preds.append(df_batch)\n",
    "    print(df_preds.shape)"
   ]
  },
  {
   "cell_type": "code",
   "execution_count": 91,
   "metadata": {},
   "outputs": [],
   "source": [
    "df_preds.to_csv(\"predictions_checkpoint_last.csv\")"
   ]
  },
  {
   "cell_type": "code",
   "execution_count": 82,
   "metadata": {},
   "outputs": [],
   "source": [
    "df_preds[\"surface_correct\"] = df_preds[\"surface_true\"] == df_preds[\"surface_pred\"]\n",
    "df_preds[\"smoothness_correct\"] = df_preds[\"smoothness_true\"] == df_preds[\"smoothness_pred\"]"
   ]
  },
  {
   "cell_type": "code",
   "execution_count": 89,
   "metadata": {},
   "outputs": [
    {
     "data": {
      "text/plain": [
       "True     18021\n",
       "False     1994\n",
       "Name: smoothness_correct, dtype: int64"
      ]
     },
     "execution_count": 89,
     "metadata": {},
     "output_type": "execute_result"
    }
   ],
   "source": [
    "df_preds[\"smoothness_correct\"].value_counts()"
   ]
  },
  {
   "cell_type": "code",
   "execution_count": 90,
   "metadata": {},
   "outputs": [
    {
     "data": {
      "text/plain": [
       "True     19049\n",
       "False      966\n",
       "Name: surface_correct, dtype: int64"
      ]
     },
     "execution_count": 90,
     "metadata": {},
     "output_type": "execute_result"
    }
   ],
   "source": [
    "df_preds[\"surface_correct\"].value_counts()"
   ]
  },
  {
   "cell_type": "code",
   "execution_count": null,
   "metadata": {},
   "outputs": [],
   "source": []
  }
 ],
 "metadata": {
  "kernelspec": {
   "display_name": "Python 3 (ipykernel)",
   "language": "python",
   "name": "python3"
  },
  "language_info": {
   "codemirror_mode": {
    "name": "ipython",
    "version": 3
   },
   "file_extension": ".py",
   "mimetype": "text/x-python",
   "name": "python",
   "nbconvert_exporter": "python",
   "pygments_lexer": "ipython3",
   "version": "3.8.10"
  }
 },
 "nbformat": 4,
 "nbformat_minor": 4
}
